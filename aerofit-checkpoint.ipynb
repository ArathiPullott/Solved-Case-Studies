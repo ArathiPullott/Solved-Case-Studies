{
 "cells": [
  {
   "cell_type": "markdown",
   "id": "1fe9d90a",
   "metadata": {},
   "source": [
    "# Aerofit - Descriptive Statistics & Probability\n"
   ]
  },
  {
   "cell_type": "markdown",
   "id": "49efd972",
   "metadata": {},
   "source": [
    "Aerofit is a leading brand in the field of fitness equipment. Aerofit provides a \n",
    "product range including machines such as treadmills, exercise bikes, gym \n",
    "equipment, and fitness accessories to cater to the needs of all categories of \n",
    "people."
   ]
  },
  {
   "cell_type": "markdown",
   "id": "e69e0d51",
   "metadata": {},
   "source": [
    "# Business Problem"
   ]
  },
  {
   "cell_type": "markdown",
   "id": "b42b9296",
   "metadata": {},
   "source": [
    "The market research team at AeroFit wants to identify the characteristics of \n",
    "the target audience for each type of treadmill offered by the company, to \n",
    "provide a better recommendation of the treadmills to the new customers. The \n",
    "team decides to investigate whether there are differences across the product \n",
    "with respect to customer characteristics."
   ]
  },
  {
   "cell_type": "markdown",
   "id": "d4f3fe58",
   "metadata": {},
   "source": [
    " ## Problem  Statment\n",
    "* Percentage of maritalstatus\n",
    "* Histplot of each columns\n",
    "* Correlations of dataset\n",
    "* How many single peoples have fitness 5?\n",
    "* Which product is mostly purchased by single?\n",
    "* How many of partnered have fitness 5?\n",
    "* Which product is mostly purchased by partnered?\n",
    "* Which product purchased by the customer mostly?\n",
    "* MARITAL_STATUS v/s FITNESS\n",
    "* Relationship b/w gender,fitness,product\n",
    "* PRODUCT v/s USAGE( Outlier detection of usage in each product )\n",
    "    * Range of usage of KP281\n",
    "    * Range of usage of KP481\n",
    "    * Range of usage of KP781\n",
    "* FITNESS v/s GENDER\n",
    "    * Which gender have more fitness?\n",
    "* Which product is mostly used while people walks >200?\n",
    "* AGE v/s PRODUCT\n",
    "    * Which product is mostly purchased by all age category?\n",
    "* PRODUCT v/s GENDER\n",
    "    * What percent of product have purchased by each gender?\n",
    "    * What percent of customers have purchased each product?\n",
    "* INCOME v/s FITNESS \n",
    "    * Relation b/w highest income and fitness\n",
    "* MARITAL STATUS v/s PRODUCT\n",
    "    * What perecnt of each product purchased by 'PARTNERED'?\n",
    "    * What perecnt of each product purchased by 'SINGLE'?\n",
    "* PRODUCT v/s FITNESS\n",
    "    * Using which product gain highest fitness?\n",
    "* SELLING PRICE\n",
    "    * Selling which product gain more profit?\n",
    "* INCOME v/s PRODUCT\n",
    "* EDUCATION v/s PRODUCT\n",
    "* Relationship b/w Miles,Fitness,Product"
   ]
  },
  {
   "cell_type": "code",
   "execution_count": null,
   "id": "7b231d1e",
   "metadata": {},
   "outputs": [],
   "source": []
  },
  {
   "cell_type": "markdown",
   "id": "6c91b19b",
   "metadata": {},
   "source": [
    "## Import Libraries"
   ]
  },
  {
   "cell_type": "code",
   "execution_count": 26,
   "id": "6772a2fc",
   "metadata": {},
   "outputs": [],
   "source": [
    "import numpy as np\n",
    "import pandas as  pd\n",
    "import matplotlib.pyplot as plt\n",
    "import seaborn as sns"
   ]
  },
  {
   "cell_type": "markdown",
   "id": "ad830a65",
   "metadata": {},
   "source": [
    "## Import Data"
   ]
  },
  {
   "cell_type": "code",
   "execution_count": 27,
   "id": "92afbeb1",
   "metadata": {},
   "outputs": [
    {
     "data": {
      "text/html": [
       "<div>\n",
       "<style scoped>\n",
       "    .dataframe tbody tr th:only-of-type {\n",
       "        vertical-align: middle;\n",
       "    }\n",
       "\n",
       "    .dataframe tbody tr th {\n",
       "        vertical-align: top;\n",
       "    }\n",
       "\n",
       "    .dataframe thead th {\n",
       "        text-align: right;\n",
       "    }\n",
       "</style>\n",
       "<table border=\"1\" class=\"dataframe\">\n",
       "  <thead>\n",
       "    <tr style=\"text-align: right;\">\n",
       "      <th></th>\n",
       "      <th>Product</th>\n",
       "      <th>Age</th>\n",
       "      <th>Gender</th>\n",
       "      <th>Education</th>\n",
       "      <th>MaritalStatus</th>\n",
       "      <th>Usage</th>\n",
       "      <th>Fitness</th>\n",
       "      <th>Income</th>\n",
       "      <th>Miles</th>\n",
       "    </tr>\n",
       "  </thead>\n",
       "  <tbody>\n",
       "    <tr>\n",
       "      <th>0</th>\n",
       "      <td>KP281</td>\n",
       "      <td>18</td>\n",
       "      <td>Male</td>\n",
       "      <td>14</td>\n",
       "      <td>Single</td>\n",
       "      <td>3</td>\n",
       "      <td>4</td>\n",
       "      <td>29562</td>\n",
       "      <td>112</td>\n",
       "    </tr>\n",
       "    <tr>\n",
       "      <th>1</th>\n",
       "      <td>KP281</td>\n",
       "      <td>19</td>\n",
       "      <td>Male</td>\n",
       "      <td>15</td>\n",
       "      <td>Single</td>\n",
       "      <td>2</td>\n",
       "      <td>3</td>\n",
       "      <td>31836</td>\n",
       "      <td>75</td>\n",
       "    </tr>\n",
       "    <tr>\n",
       "      <th>2</th>\n",
       "      <td>KP281</td>\n",
       "      <td>19</td>\n",
       "      <td>Female</td>\n",
       "      <td>14</td>\n",
       "      <td>Partnered</td>\n",
       "      <td>4</td>\n",
       "      <td>3</td>\n",
       "      <td>30699</td>\n",
       "      <td>66</td>\n",
       "    </tr>\n",
       "    <tr>\n",
       "      <th>3</th>\n",
       "      <td>KP281</td>\n",
       "      <td>19</td>\n",
       "      <td>Male</td>\n",
       "      <td>12</td>\n",
       "      <td>Single</td>\n",
       "      <td>3</td>\n",
       "      <td>3</td>\n",
       "      <td>32973</td>\n",
       "      <td>85</td>\n",
       "    </tr>\n",
       "    <tr>\n",
       "      <th>4</th>\n",
       "      <td>KP281</td>\n",
       "      <td>20</td>\n",
       "      <td>Male</td>\n",
       "      <td>13</td>\n",
       "      <td>Partnered</td>\n",
       "      <td>4</td>\n",
       "      <td>2</td>\n",
       "      <td>35247</td>\n",
       "      <td>47</td>\n",
       "    </tr>\n",
       "    <tr>\n",
       "      <th>...</th>\n",
       "      <td>...</td>\n",
       "      <td>...</td>\n",
       "      <td>...</td>\n",
       "      <td>...</td>\n",
       "      <td>...</td>\n",
       "      <td>...</td>\n",
       "      <td>...</td>\n",
       "      <td>...</td>\n",
       "      <td>...</td>\n",
       "    </tr>\n",
       "    <tr>\n",
       "      <th>175</th>\n",
       "      <td>KP781</td>\n",
       "      <td>40</td>\n",
       "      <td>Male</td>\n",
       "      <td>21</td>\n",
       "      <td>Single</td>\n",
       "      <td>6</td>\n",
       "      <td>5</td>\n",
       "      <td>83416</td>\n",
       "      <td>200</td>\n",
       "    </tr>\n",
       "    <tr>\n",
       "      <th>176</th>\n",
       "      <td>KP781</td>\n",
       "      <td>42</td>\n",
       "      <td>Male</td>\n",
       "      <td>18</td>\n",
       "      <td>Single</td>\n",
       "      <td>5</td>\n",
       "      <td>4</td>\n",
       "      <td>89641</td>\n",
       "      <td>200</td>\n",
       "    </tr>\n",
       "    <tr>\n",
       "      <th>177</th>\n",
       "      <td>KP781</td>\n",
       "      <td>45</td>\n",
       "      <td>Male</td>\n",
       "      <td>16</td>\n",
       "      <td>Single</td>\n",
       "      <td>5</td>\n",
       "      <td>5</td>\n",
       "      <td>90886</td>\n",
       "      <td>160</td>\n",
       "    </tr>\n",
       "    <tr>\n",
       "      <th>178</th>\n",
       "      <td>KP781</td>\n",
       "      <td>47</td>\n",
       "      <td>Male</td>\n",
       "      <td>18</td>\n",
       "      <td>Partnered</td>\n",
       "      <td>4</td>\n",
       "      <td>5</td>\n",
       "      <td>104581</td>\n",
       "      <td>120</td>\n",
       "    </tr>\n",
       "    <tr>\n",
       "      <th>179</th>\n",
       "      <td>KP781</td>\n",
       "      <td>48</td>\n",
       "      <td>Male</td>\n",
       "      <td>18</td>\n",
       "      <td>Partnered</td>\n",
       "      <td>4</td>\n",
       "      <td>5</td>\n",
       "      <td>95508</td>\n",
       "      <td>180</td>\n",
       "    </tr>\n",
       "  </tbody>\n",
       "</table>\n",
       "<p>180 rows × 9 columns</p>\n",
       "</div>"
      ],
      "text/plain": [
       "    Product  Age  Gender  Education MaritalStatus  Usage  Fitness  Income  \\\n",
       "0     KP281   18    Male         14        Single      3        4   29562   \n",
       "1     KP281   19    Male         15        Single      2        3   31836   \n",
       "2     KP281   19  Female         14     Partnered      4        3   30699   \n",
       "3     KP281   19    Male         12        Single      3        3   32973   \n",
       "4     KP281   20    Male         13     Partnered      4        2   35247   \n",
       "..      ...  ...     ...        ...           ...    ...      ...     ...   \n",
       "175   KP781   40    Male         21        Single      6        5   83416   \n",
       "176   KP781   42    Male         18        Single      5        4   89641   \n",
       "177   KP781   45    Male         16        Single      5        5   90886   \n",
       "178   KP781   47    Male         18     Partnered      4        5  104581   \n",
       "179   KP781   48    Male         18     Partnered      4        5   95508   \n",
       "\n",
       "     Miles  \n",
       "0      112  \n",
       "1       75  \n",
       "2       66  \n",
       "3       85  \n",
       "4       47  \n",
       "..     ...  \n",
       "175    200  \n",
       "176    200  \n",
       "177    160  \n",
       "178    120  \n",
       "179    180  \n",
       "\n",
       "[180 rows x 9 columns]"
      ]
     },
     "execution_count": 27,
     "metadata": {},
     "output_type": "execute_result"
    }
   ],
   "source": [
    "df=pd.read_csv('aerofit_treadmill.csv')\n",
    "df\n"
   ]
  },
  {
   "cell_type": "markdown",
   "id": "2aec05a4",
   "metadata": {},
   "source": [
    "## Data Exploration"
   ]
  },
  {
   "cell_type": "code",
   "execution_count": 28,
   "id": "74869701",
   "metadata": {},
   "outputs": [
    {
     "data": {
      "text/plain": [
       "(180, 9)"
      ]
     },
     "execution_count": 28,
     "metadata": {},
     "output_type": "execute_result"
    }
   ],
   "source": [
    "df.shape"
   ]
  },
  {
   "cell_type": "code",
   "execution_count": 29,
   "id": "1ffc2a27",
   "metadata": {},
   "outputs": [
    {
     "name": "stdout",
     "output_type": "stream",
     "text": [
      "<class 'pandas.core.frame.DataFrame'>\n",
      "RangeIndex: 180 entries, 0 to 179\n",
      "Data columns (total 9 columns):\n",
      " #   Column         Non-Null Count  Dtype \n",
      "---  ------         --------------  ----- \n",
      " 0   Product        180 non-null    object\n",
      " 1   Age            180 non-null    int64 \n",
      " 2   Gender         180 non-null    object\n",
      " 3   Education      180 non-null    int64 \n",
      " 4   MaritalStatus  180 non-null    object\n",
      " 5   Usage          180 non-null    int64 \n",
      " 6   Fitness        180 non-null    int64 \n",
      " 7   Income         180 non-null    int64 \n",
      " 8   Miles          180 non-null    int64 \n",
      "dtypes: int64(6), object(3)\n",
      "memory usage: 12.8+ KB\n"
     ]
    }
   ],
   "source": [
    "df.info()"
   ]
  },
  {
   "cell_type": "code",
   "execution_count": 30,
   "id": "4ad8d843",
   "metadata": {},
   "outputs": [
    {
     "data": {
      "text/plain": [
       "Product          0\n",
       "Age              0\n",
       "Gender           0\n",
       "Education        0\n",
       "MaritalStatus    0\n",
       "Usage            0\n",
       "Fitness          0\n",
       "Income           0\n",
       "Miles            0\n",
       "dtype: int64"
      ]
     },
     "execution_count": 30,
     "metadata": {},
     "output_type": "execute_result"
    }
   ],
   "source": [
    "df.isnull().sum()"
   ]
  },
  {
   "cell_type": "code",
   "execution_count": 31,
   "id": "5112a057",
   "metadata": {},
   "outputs": [
    {
     "data": {
      "text/html": [
       "<div>\n",
       "<style scoped>\n",
       "    .dataframe tbody tr th:only-of-type {\n",
       "        vertical-align: middle;\n",
       "    }\n",
       "\n",
       "    .dataframe tbody tr th {\n",
       "        vertical-align: top;\n",
       "    }\n",
       "\n",
       "    .dataframe thead th {\n",
       "        text-align: right;\n",
       "    }\n",
       "</style>\n",
       "<table border=\"1\" class=\"dataframe\">\n",
       "  <thead>\n",
       "    <tr style=\"text-align: right;\">\n",
       "      <th></th>\n",
       "      <th>Age</th>\n",
       "      <th>Education</th>\n",
       "      <th>Usage</th>\n",
       "      <th>Fitness</th>\n",
       "      <th>Income</th>\n",
       "      <th>Miles</th>\n",
       "    </tr>\n",
       "  </thead>\n",
       "  <tbody>\n",
       "    <tr>\n",
       "      <th>count</th>\n",
       "      <td>180.000000</td>\n",
       "      <td>180.000000</td>\n",
       "      <td>180.000000</td>\n",
       "      <td>180.000000</td>\n",
       "      <td>180.000000</td>\n",
       "      <td>180.000000</td>\n",
       "    </tr>\n",
       "    <tr>\n",
       "      <th>mean</th>\n",
       "      <td>28.788889</td>\n",
       "      <td>15.572222</td>\n",
       "      <td>3.455556</td>\n",
       "      <td>3.311111</td>\n",
       "      <td>53719.577778</td>\n",
       "      <td>103.194444</td>\n",
       "    </tr>\n",
       "    <tr>\n",
       "      <th>std</th>\n",
       "      <td>6.943498</td>\n",
       "      <td>1.617055</td>\n",
       "      <td>1.084797</td>\n",
       "      <td>0.958869</td>\n",
       "      <td>16506.684226</td>\n",
       "      <td>51.863605</td>\n",
       "    </tr>\n",
       "    <tr>\n",
       "      <th>min</th>\n",
       "      <td>18.000000</td>\n",
       "      <td>12.000000</td>\n",
       "      <td>2.000000</td>\n",
       "      <td>1.000000</td>\n",
       "      <td>29562.000000</td>\n",
       "      <td>21.000000</td>\n",
       "    </tr>\n",
       "    <tr>\n",
       "      <th>25%</th>\n",
       "      <td>24.000000</td>\n",
       "      <td>14.000000</td>\n",
       "      <td>3.000000</td>\n",
       "      <td>3.000000</td>\n",
       "      <td>44058.750000</td>\n",
       "      <td>66.000000</td>\n",
       "    </tr>\n",
       "    <tr>\n",
       "      <th>50%</th>\n",
       "      <td>26.000000</td>\n",
       "      <td>16.000000</td>\n",
       "      <td>3.000000</td>\n",
       "      <td>3.000000</td>\n",
       "      <td>50596.500000</td>\n",
       "      <td>94.000000</td>\n",
       "    </tr>\n",
       "    <tr>\n",
       "      <th>75%</th>\n",
       "      <td>33.000000</td>\n",
       "      <td>16.000000</td>\n",
       "      <td>4.000000</td>\n",
       "      <td>4.000000</td>\n",
       "      <td>58668.000000</td>\n",
       "      <td>114.750000</td>\n",
       "    </tr>\n",
       "    <tr>\n",
       "      <th>max</th>\n",
       "      <td>50.000000</td>\n",
       "      <td>21.000000</td>\n",
       "      <td>7.000000</td>\n",
       "      <td>5.000000</td>\n",
       "      <td>104581.000000</td>\n",
       "      <td>360.000000</td>\n",
       "    </tr>\n",
       "  </tbody>\n",
       "</table>\n",
       "</div>"
      ],
      "text/plain": [
       "              Age   Education       Usage     Fitness         Income  \\\n",
       "count  180.000000  180.000000  180.000000  180.000000     180.000000   \n",
       "mean    28.788889   15.572222    3.455556    3.311111   53719.577778   \n",
       "std      6.943498    1.617055    1.084797    0.958869   16506.684226   \n",
       "min     18.000000   12.000000    2.000000    1.000000   29562.000000   \n",
       "25%     24.000000   14.000000    3.000000    3.000000   44058.750000   \n",
       "50%     26.000000   16.000000    3.000000    3.000000   50596.500000   \n",
       "75%     33.000000   16.000000    4.000000    4.000000   58668.000000   \n",
       "max     50.000000   21.000000    7.000000    5.000000  104581.000000   \n",
       "\n",
       "            Miles  \n",
       "count  180.000000  \n",
       "mean   103.194444  \n",
       "std     51.863605  \n",
       "min     21.000000  \n",
       "25%     66.000000  \n",
       "50%     94.000000  \n",
       "75%    114.750000  \n",
       "max    360.000000  "
      ]
     },
     "execution_count": 31,
     "metadata": {},
     "output_type": "execute_result"
    }
   ],
   "source": [
    "ds.describe()"
   ]
  },
  {
   "cell_type": "code",
   "execution_count": 32,
   "id": "b56bf9ec",
   "metadata": {},
   "outputs": [],
   "source": [
    "data=pd.DataFrame([df['Age'],df['Education'],df['Usage'],df['Fitness'],df['Income'],df['Miles']])"
   ]
  },
  {
   "cell_type": "code",
   "execution_count": 33,
   "id": "0de10ba0",
   "metadata": {},
   "outputs": [
    {
     "data": {
      "text/html": [
       "<div>\n",
       "<style scoped>\n",
       "    .dataframe tbody tr th:only-of-type {\n",
       "        vertical-align: middle;\n",
       "    }\n",
       "\n",
       "    .dataframe tbody tr th {\n",
       "        vertical-align: top;\n",
       "    }\n",
       "\n",
       "    .dataframe thead th {\n",
       "        text-align: right;\n",
       "    }\n",
       "</style>\n",
       "<table border=\"1\" class=\"dataframe\">\n",
       "  <thead>\n",
       "    <tr style=\"text-align: right;\">\n",
       "      <th></th>\n",
       "      <th>Age</th>\n",
       "      <th>Education</th>\n",
       "      <th>Usage</th>\n",
       "      <th>Fitness</th>\n",
       "      <th>Income</th>\n",
       "      <th>Miles</th>\n",
       "    </tr>\n",
       "  </thead>\n",
       "  <tbody>\n",
       "    <tr>\n",
       "      <th>0</th>\n",
       "      <td>18</td>\n",
       "      <td>14</td>\n",
       "      <td>3</td>\n",
       "      <td>4</td>\n",
       "      <td>29562</td>\n",
       "      <td>112</td>\n",
       "    </tr>\n",
       "    <tr>\n",
       "      <th>1</th>\n",
       "      <td>19</td>\n",
       "      <td>15</td>\n",
       "      <td>2</td>\n",
       "      <td>3</td>\n",
       "      <td>31836</td>\n",
       "      <td>75</td>\n",
       "    </tr>\n",
       "    <tr>\n",
       "      <th>2</th>\n",
       "      <td>19</td>\n",
       "      <td>14</td>\n",
       "      <td>4</td>\n",
       "      <td>3</td>\n",
       "      <td>30699</td>\n",
       "      <td>66</td>\n",
       "    </tr>\n",
       "    <tr>\n",
       "      <th>3</th>\n",
       "      <td>19</td>\n",
       "      <td>12</td>\n",
       "      <td>3</td>\n",
       "      <td>3</td>\n",
       "      <td>32973</td>\n",
       "      <td>85</td>\n",
       "    </tr>\n",
       "    <tr>\n",
       "      <th>4</th>\n",
       "      <td>20</td>\n",
       "      <td>13</td>\n",
       "      <td>4</td>\n",
       "      <td>2</td>\n",
       "      <td>35247</td>\n",
       "      <td>47</td>\n",
       "    </tr>\n",
       "    <tr>\n",
       "      <th>...</th>\n",
       "      <td>...</td>\n",
       "      <td>...</td>\n",
       "      <td>...</td>\n",
       "      <td>...</td>\n",
       "      <td>...</td>\n",
       "      <td>...</td>\n",
       "    </tr>\n",
       "    <tr>\n",
       "      <th>175</th>\n",
       "      <td>40</td>\n",
       "      <td>21</td>\n",
       "      <td>6</td>\n",
       "      <td>5</td>\n",
       "      <td>83416</td>\n",
       "      <td>200</td>\n",
       "    </tr>\n",
       "    <tr>\n",
       "      <th>176</th>\n",
       "      <td>42</td>\n",
       "      <td>18</td>\n",
       "      <td>5</td>\n",
       "      <td>4</td>\n",
       "      <td>89641</td>\n",
       "      <td>200</td>\n",
       "    </tr>\n",
       "    <tr>\n",
       "      <th>177</th>\n",
       "      <td>45</td>\n",
       "      <td>16</td>\n",
       "      <td>5</td>\n",
       "      <td>5</td>\n",
       "      <td>90886</td>\n",
       "      <td>160</td>\n",
       "    </tr>\n",
       "    <tr>\n",
       "      <th>178</th>\n",
       "      <td>47</td>\n",
       "      <td>18</td>\n",
       "      <td>4</td>\n",
       "      <td>5</td>\n",
       "      <td>104581</td>\n",
       "      <td>120</td>\n",
       "    </tr>\n",
       "    <tr>\n",
       "      <th>179</th>\n",
       "      <td>48</td>\n",
       "      <td>18</td>\n",
       "      <td>4</td>\n",
       "      <td>5</td>\n",
       "      <td>95508</td>\n",
       "      <td>180</td>\n",
       "    </tr>\n",
       "  </tbody>\n",
       "</table>\n",
       "<p>180 rows × 6 columns</p>\n",
       "</div>"
      ],
      "text/plain": [
       "     Age  Education  Usage  Fitness  Income  Miles\n",
       "0     18         14      3        4   29562    112\n",
       "1     19         15      2        3   31836     75\n",
       "2     19         14      4        3   30699     66\n",
       "3     19         12      3        3   32973     85\n",
       "4     20         13      4        2   35247     47\n",
       "..   ...        ...    ...      ...     ...    ...\n",
       "175   40         21      6        5   83416    200\n",
       "176   42         18      5        4   89641    200\n",
       "177   45         16      5        5   90886    160\n",
       "178   47         18      4        5  104581    120\n",
       "179   48         18      4        5   95508    180\n",
       "\n",
       "[180 rows x 6 columns]"
      ]
     },
     "execution_count": 33,
     "metadata": {},
     "output_type": "execute_result"
    }
   ],
   "source": [
    "ds=data.T\n",
    "ds"
   ]
  },
  {
   "cell_type": "code",
   "execution_count": 34,
   "id": "11e7a655",
   "metadata": {},
   "outputs": [
    {
     "name": "stdout",
     "output_type": "stream",
     "text": [
      "Age : 26.0\n",
      "Education : 16.0\n",
      "Usage : 3.0\n",
      "Fitness : 3.0\n",
      "Income : 50596.5\n",
      "Miles : 94.0\n"
     ]
    }
   ],
   "source": [
    "for i in ds.columns:\n",
    "    print(i,':',ds[i].median())"
   ]
  },
  {
   "cell_type": "markdown",
   "id": "e0d1ecc0",
   "metadata": {},
   "source": [
    "# Percentage of maritalstatus"
   ]
  },
  {
   "cell_type": "code",
   "execution_count": 35,
   "id": "f6c46ec9",
   "metadata": {},
   "outputs": [
    {
     "data": {
      "text/plain": [
       "[]"
      ]
     },
     "execution_count": 35,
     "metadata": {},
     "output_type": "execute_result"
    },
    {
     "data": {
      "image/png": "[encoded data removed]",
      "text/plain": [
       "<Figure size 432x288 with 1 Axes>"
      ]
     },
     "metadata": {},
     "output_type": "display_data"
    }
   ],
   "source": [
    "df['MaritalStatus'].value_counts().plot.pie(explode=(0,0.1),shadow=True,autopct='%.0f%%',startangle=90)\n",
    "plt.title('percentage of maritalstatus ')\n",
    "plt.plot()"
   ]
  },
  {
   "cell_type": "markdown",
   "id": "5ee8c412",
   "metadata": {},
   "source": [
    "* 59% of peoples are partnered\n",
    "* 41% of peoples are single"
   ]
  },
  {
   "cell_type": "markdown",
   "id": "e989495c",
   "metadata": {},
   "source": [
    "# Histplot of each column"
   ]
  },
  {
   "cell_type": "code",
   "execution_count": 36,
   "id": "716a7d42",
   "metadata": {},
   "outputs": [
    {
     "data": {
      "image/png": "[encoded data removed]",
      "text/plain": [
       "<Figure size 864x720 with 6 Axes>"
      ]
     },
     "metadata": {
      "needs_background": "light"
     },
     "output_type": "display_data"
    }
   ],
   "source": [
    "fig, axis = plt.subplots(nrows=3, ncols=2, figsize=(12, 10))\n",
    "fig.subplots_adjust(top=1.5)\n",
    "sns.histplot(data=df, x=\"Age\", kde=True,color=\"aquamarine\", ax=axis[0,0])\n",
    "sns.histplot(data=df, x=\"Education\", kde=True,color=\"coral\", ax=axis[0,1])\n",
    "sns.histplot(data=df, x=\"Usage\", kde=True,color=\"purple\", ax=axis[1,0])\n",
    "sns.histplot(data=df, x=\"Fitness\", kde=True,color=\"crimson\", ax=axis[1,1])\n",
    "sns.histplot(data=df, x=\"Income\", kde=True,color=\"teal\", ax=axis[2,0])\n",
    "sns.histplot(data=df, x=\"Miles\", kde=True,color=\"cyan\", ax=axis[2,1])\n",
    "plt.show()"
   ]
  },
  {
   "cell_type": "code",
   "execution_count": null,
   "id": "13c02454",
   "metadata": {},
   "outputs": [],
   "source": []
  },
  {
   "cell_type": "markdown",
   "id": "7b8f4b98",
   "metadata": {},
   "source": [
    "# Correlation of dataset"
   ]
  },
  {
   "cell_type": "code",
   "execution_count": 37,
   "id": "5e92bcef",
   "metadata": {},
   "outputs": [
    {
     "data": {
      "image/png": "[encoded data removed]",
      "text/plain": [
       "<Figure size 1080x720 with 2 Axes>"
      ]
     },
     "metadata": {
      "needs_background": "light"
     },
     "output_type": "display_data"
    }
   ],
   "source": [
    "plt.figure(figsize=(15,10))\n",
    "sns.heatmap(df.corr(),cmap='Blues',annot=True)\n",
    "plt.show()"
   ]
  },
  {
   "cell_type": "markdown",
   "id": "f3ff3617",
   "metadata": {},
   "source": [
    "* From this heatmap we can say the heighest correlation coefficient is 0.79 and after that 0.76\n",
    "\n",
    "* ie increasing rate of miles increase the rate of fitness\n",
    "\n",
    "* Miles and fitness  have heighest correlation coefficient 0.79\n",
    "\n",
    "* Usage and  miles have relatively  heighest correlation coeff 0.76\n",
    "\n"
   ]
  },
  {
   "cell_type": "markdown",
   "id": "1c0d0c9d",
   "metadata": {},
   "source": [
    "# How many  single peoples have  fitness 5?"
   ]
  },
  {
   "cell_type": "code",
   "execution_count": 38,
   "id": "c5ca4e71",
   "metadata": {},
   "outputs": [
    {
     "data": {
      "text/html": [
       "<div>\n",
       "<style scoped>\n",
       "    .dataframe tbody tr th:only-of-type {\n",
       "        vertical-align: middle;\n",
       "    }\n",
       "\n",
       "    .dataframe tbody tr th {\n",
       "        vertical-align: top;\n",
       "    }\n",
       "\n",
       "    .dataframe thead th {\n",
       "        text-align: right;\n",
       "    }\n",
       "</style>\n",
       "<table border=\"1\" class=\"dataframe\">\n",
       "  <thead>\n",
       "    <tr style=\"text-align: right;\">\n",
       "      <th></th>\n",
       "      <th>Product</th>\n",
       "      <th>Age</th>\n",
       "      <th>Gender</th>\n",
       "      <th>Education</th>\n",
       "      <th>MaritalStatus</th>\n",
       "      <th>Usage</th>\n",
       "      <th>Fitness</th>\n",
       "      <th>Income</th>\n",
       "      <th>Miles</th>\n",
       "    </tr>\n",
       "  </thead>\n",
       "  <tbody>\n",
       "    <tr>\n",
       "      <th>0</th>\n",
       "      <td>KP281</td>\n",
       "      <td>18</td>\n",
       "      <td>Male</td>\n",
       "      <td>14</td>\n",
       "      <td>Single</td>\n",
       "      <td>3</td>\n",
       "      <td>4</td>\n",
       "      <td>29562</td>\n",
       "      <td>112</td>\n",
       "    </tr>\n",
       "    <tr>\n",
       "      <th>1</th>\n",
       "      <td>KP281</td>\n",
       "      <td>19</td>\n",
       "      <td>Male</td>\n",
       "      <td>15</td>\n",
       "      <td>Single</td>\n",
       "      <td>2</td>\n",
       "      <td>3</td>\n",
       "      <td>31836</td>\n",
       "      <td>75</td>\n",
       "    </tr>\n",
       "    <tr>\n",
       "      <th>3</th>\n",
       "      <td>KP281</td>\n",
       "      <td>19</td>\n",
       "      <td>Male</td>\n",
       "      <td>12</td>\n",
       "      <td>Single</td>\n",
       "      <td>3</td>\n",
       "      <td>3</td>\n",
       "      <td>32973</td>\n",
       "      <td>85</td>\n",
       "    </tr>\n",
       "    <tr>\n",
       "      <th>7</th>\n",
       "      <td>KP281</td>\n",
       "      <td>21</td>\n",
       "      <td>Male</td>\n",
       "      <td>13</td>\n",
       "      <td>Single</td>\n",
       "      <td>3</td>\n",
       "      <td>3</td>\n",
       "      <td>32973</td>\n",
       "      <td>85</td>\n",
       "    </tr>\n",
       "    <tr>\n",
       "      <th>8</th>\n",
       "      <td>KP281</td>\n",
       "      <td>21</td>\n",
       "      <td>Male</td>\n",
       "      <td>15</td>\n",
       "      <td>Single</td>\n",
       "      <td>5</td>\n",
       "      <td>4</td>\n",
       "      <td>35247</td>\n",
       "      <td>141</td>\n",
       "    </tr>\n",
       "    <tr>\n",
       "      <th>...</th>\n",
       "      <td>...</td>\n",
       "      <td>...</td>\n",
       "      <td>...</td>\n",
       "      <td>...</td>\n",
       "      <td>...</td>\n",
       "      <td>...</td>\n",
       "      <td>...</td>\n",
       "      <td>...</td>\n",
       "      <td>...</td>\n",
       "    </tr>\n",
       "    <tr>\n",
       "      <th>165</th>\n",
       "      <td>KP781</td>\n",
       "      <td>29</td>\n",
       "      <td>Male</td>\n",
       "      <td>18</td>\n",
       "      <td>Single</td>\n",
       "      <td>5</td>\n",
       "      <td>5</td>\n",
       "      <td>52290</td>\n",
       "      <td>180</td>\n",
       "    </tr>\n",
       "    <tr>\n",
       "      <th>172</th>\n",
       "      <td>KP781</td>\n",
       "      <td>34</td>\n",
       "      <td>Male</td>\n",
       "      <td>16</td>\n",
       "      <td>Single</td>\n",
       "      <td>5</td>\n",
       "      <td>5</td>\n",
       "      <td>92131</td>\n",
       "      <td>150</td>\n",
       "    </tr>\n",
       "    <tr>\n",
       "      <th>175</th>\n",
       "      <td>KP781</td>\n",
       "      <td>40</td>\n",
       "      <td>Male</td>\n",
       "      <td>21</td>\n",
       "      <td>Single</td>\n",
       "      <td>6</td>\n",
       "      <td>5</td>\n",
       "      <td>83416</td>\n",
       "      <td>200</td>\n",
       "    </tr>\n",
       "    <tr>\n",
       "      <th>176</th>\n",
       "      <td>KP781</td>\n",
       "      <td>42</td>\n",
       "      <td>Male</td>\n",
       "      <td>18</td>\n",
       "      <td>Single</td>\n",
       "      <td>5</td>\n",
       "      <td>4</td>\n",
       "      <td>89641</td>\n",
       "      <td>200</td>\n",
       "    </tr>\n",
       "    <tr>\n",
       "      <th>177</th>\n",
       "      <td>KP781</td>\n",
       "      <td>45</td>\n",
       "      <td>Male</td>\n",
       "      <td>16</td>\n",
       "      <td>Single</td>\n",
       "      <td>5</td>\n",
       "      <td>5</td>\n",
       "      <td>90886</td>\n",
       "      <td>160</td>\n",
       "    </tr>\n",
       "  </tbody>\n",
       "</table>\n",
       "<p>73 rows × 9 columns</p>\n",
       "</div>"
      ],
      "text/plain": [
       "    Product  Age Gender  Education MaritalStatus  Usage  Fitness  Income  \\\n",
       "0     KP281   18   Male         14        Single      3        4   29562   \n",
       "1     KP281   19   Male         15        Single      2        3   31836   \n",
       "3     KP281   19   Male         12        Single      3        3   32973   \n",
       "7     KP281   21   Male         13        Single      3        3   32973   \n",
       "8     KP281   21   Male         15        Single      5        4   35247   \n",
       "..      ...  ...    ...        ...           ...    ...      ...     ...   \n",
       "165   KP781   29   Male         18        Single      5        5   52290   \n",
       "172   KP781   34   Male         16        Single      5        5   92131   \n",
       "175   KP781   40   Male         21        Single      6        5   83416   \n",
       "176   KP781   42   Male         18        Single      5        4   89641   \n",
       "177   KP781   45   Male         16        Single      5        5   90886   \n",
       "\n",
       "     Miles  \n",
       "0      112  \n",
       "1       75  \n",
       "3       85  \n",
       "7       85  \n",
       "8      141  \n",
       "..     ...  \n",
       "165    180  \n",
       "172    150  \n",
       "175    200  \n",
       "176    200  \n",
       "177    160  \n",
       "\n",
       "[73 rows x 9 columns]"
      ]
     },
     "execution_count": 38,
     "metadata": {},
     "output_type": "execute_result"
    }
   ],
   "source": [
    "S=df[df['MaritalStatus']=='Single']\n",
    "S"
   ]
  },
  {
   "cell_type": "code",
   "execution_count": 39,
   "id": "2bd89b17",
   "metadata": {},
   "outputs": [
    {
     "data": {
      "text/plain": [
       "Fitness  MaritalStatus\n",
       "1        Single            1\n",
       "2        Single            8\n",
       "3        Single           40\n",
       "4        Single           11\n",
       "5        Single           13\n",
       "Name: MaritalStatus, dtype: int64"
      ]
     },
     "execution_count": 39,
     "metadata": {},
     "output_type": "execute_result"
    }
   ],
   "source": [
    "H=S.groupby('Fitness')['MaritalStatus'].value_counts()\n",
    "H"
   ]
  },
  {
   "cell_type": "markdown",
   "id": "e0e6d1d0",
   "metadata": {},
   "source": [
    "* Majority of single persons have fitness 3 ,count=40\n",
    "* 13 peoples have fitness 5\n",
    "* 11 peoples have fitness 4"
   ]
  },
  {
   "cell_type": "code",
   "execution_count": 40,
   "id": "e571b20d",
   "metadata": {},
   "outputs": [
    {
     "data": {
      "text/plain": [
       "92131"
      ]
     },
     "execution_count": 40,
     "metadata": {},
     "output_type": "execute_result"
    }
   ],
   "source": [
    "S.Income.max()"
   ]
  },
  {
   "cell_type": "markdown",
   "id": "20768fd1",
   "metadata": {},
   "source": [
    "* Max salary of single is 92131"
   ]
  },
  {
   "cell_type": "code",
   "execution_count": 41,
   "id": "e23b3b7b",
   "metadata": {},
   "outputs": [
    {
     "data": {
      "text/plain": [
       "200"
      ]
     },
     "execution_count": 41,
     "metadata": {},
     "output_type": "execute_result"
    }
   ],
   "source": [
    "S.Miles.max()"
   ]
  },
  {
   "cell_type": "markdown",
   "id": "eeabccb8",
   "metadata": {},
   "source": [
    "* Single persons are mostly walk around 200 miles"
   ]
  },
  {
   "cell_type": "markdown",
   "id": "9bab8fed",
   "metadata": {},
   "source": [
    "# Which product is mostly purchased by single?"
   ]
  },
  {
   "cell_type": "code",
   "execution_count": 42,
   "id": "785f413c",
   "metadata": {},
   "outputs": [
    {
     "data": {
      "text/plain": [
       "Product  MaritalStatus\n",
       "KP281    Single           32\n",
       "KP481    Single           24\n",
       "KP781    Single           17\n",
       "Name: MaritalStatus, dtype: int64"
      ]
     },
     "execution_count": 42,
     "metadata": {},
     "output_type": "execute_result"
    }
   ],
   "source": [
    "SP=S.groupby('Product')['MaritalStatus'].value_counts()\n",
    "SP"
   ]
  },
  {
   "cell_type": "markdown",
   "id": "d6f578c5",
   "metadata": {},
   "source": [
    "ANS: KP281"
   ]
  },
  {
   "cell_type": "markdown",
   "id": "73fc28f3",
   "metadata": {},
   "source": [
    "* In single 32 people purchased KP281 \n",
    "* 24 people purchased kP481"
   ]
  },
  {
   "cell_type": "markdown",
   "id": "eac668a2",
   "metadata": {},
   "source": [
    "# How many of partnered have fitness 5?"
   ]
  },
  {
   "cell_type": "code",
   "execution_count": 43,
   "id": "60fe54cf",
   "metadata": {},
   "outputs": [
    {
     "data": {
      "text/html": [
       "<div>\n",
       "<style scoped>\n",
       "    .dataframe tbody tr th:only-of-type {\n",
       "        vertical-align: middle;\n",
       "    }\n",
       "\n",
       "    .dataframe tbody tr th {\n",
       "        vertical-align: top;\n",
       "    }\n",
       "\n",
       "    .dataframe thead th {\n",
       "        text-align: right;\n",
       "    }\n",
       "</style>\n",
       "<table border=\"1\" class=\"dataframe\">\n",
       "  <thead>\n",
       "    <tr style=\"text-align: right;\">\n",
       "      <th></th>\n",
       "      <th>Product</th>\n",
       "      <th>Age</th>\n",
       "      <th>Gender</th>\n",
       "      <th>Education</th>\n",
       "      <th>MaritalStatus</th>\n",
       "      <th>Usage</th>\n",
       "      <th>Fitness</th>\n",
       "      <th>Income</th>\n",
       "      <th>Miles</th>\n",
       "    </tr>\n",
       "  </thead>\n",
       "  <tbody>\n",
       "    <tr>\n",
       "      <th>2</th>\n",
       "      <td>KP281</td>\n",
       "      <td>19</td>\n",
       "      <td>Female</td>\n",
       "      <td>14</td>\n",
       "      <td>Partnered</td>\n",
       "      <td>4</td>\n",
       "      <td>3</td>\n",
       "      <td>30699</td>\n",
       "      <td>66</td>\n",
       "    </tr>\n",
       "    <tr>\n",
       "      <th>4</th>\n",
       "      <td>KP281</td>\n",
       "      <td>20</td>\n",
       "      <td>Male</td>\n",
       "      <td>13</td>\n",
       "      <td>Partnered</td>\n",
       "      <td>4</td>\n",
       "      <td>2</td>\n",
       "      <td>35247</td>\n",
       "      <td>47</td>\n",
       "    </tr>\n",
       "    <tr>\n",
       "      <th>5</th>\n",
       "      <td>KP281</td>\n",
       "      <td>20</td>\n",
       "      <td>Female</td>\n",
       "      <td>14</td>\n",
       "      <td>Partnered</td>\n",
       "      <td>3</td>\n",
       "      <td>3</td>\n",
       "      <td>32973</td>\n",
       "      <td>66</td>\n",
       "    </tr>\n",
       "    <tr>\n",
       "      <th>6</th>\n",
       "      <td>KP281</td>\n",
       "      <td>21</td>\n",
       "      <td>Female</td>\n",
       "      <td>14</td>\n",
       "      <td>Partnered</td>\n",
       "      <td>3</td>\n",
       "      <td>3</td>\n",
       "      <td>35247</td>\n",
       "      <td>75</td>\n",
       "    </tr>\n",
       "    <tr>\n",
       "      <th>9</th>\n",
       "      <td>KP281</td>\n",
       "      <td>21</td>\n",
       "      <td>Female</td>\n",
       "      <td>15</td>\n",
       "      <td>Partnered</td>\n",
       "      <td>2</td>\n",
       "      <td>3</td>\n",
       "      <td>37521</td>\n",
       "      <td>85</td>\n",
       "    </tr>\n",
       "    <tr>\n",
       "      <th>...</th>\n",
       "      <td>...</td>\n",
       "      <td>...</td>\n",
       "      <td>...</td>\n",
       "      <td>...</td>\n",
       "      <td>...</td>\n",
       "      <td>...</td>\n",
       "      <td>...</td>\n",
       "      <td>...</td>\n",
       "      <td>...</td>\n",
       "    </tr>\n",
       "    <tr>\n",
       "      <th>171</th>\n",
       "      <td>KP781</td>\n",
       "      <td>33</td>\n",
       "      <td>Female</td>\n",
       "      <td>18</td>\n",
       "      <td>Partnered</td>\n",
       "      <td>4</td>\n",
       "      <td>5</td>\n",
       "      <td>95866</td>\n",
       "      <td>200</td>\n",
       "    </tr>\n",
       "    <tr>\n",
       "      <th>173</th>\n",
       "      <td>KP781</td>\n",
       "      <td>35</td>\n",
       "      <td>Male</td>\n",
       "      <td>16</td>\n",
       "      <td>Partnered</td>\n",
       "      <td>4</td>\n",
       "      <td>5</td>\n",
       "      <td>92131</td>\n",
       "      <td>360</td>\n",
       "    </tr>\n",
       "    <tr>\n",
       "      <th>174</th>\n",
       "      <td>KP781</td>\n",
       "      <td>38</td>\n",
       "      <td>Male</td>\n",
       "      <td>18</td>\n",
       "      <td>Partnered</td>\n",
       "      <td>5</td>\n",
       "      <td>5</td>\n",
       "      <td>104581</td>\n",
       "      <td>150</td>\n",
       "    </tr>\n",
       "    <tr>\n",
       "      <th>178</th>\n",
       "      <td>KP781</td>\n",
       "      <td>47</td>\n",
       "      <td>Male</td>\n",
       "      <td>18</td>\n",
       "      <td>Partnered</td>\n",
       "      <td>4</td>\n",
       "      <td>5</td>\n",
       "      <td>104581</td>\n",
       "      <td>120</td>\n",
       "    </tr>\n",
       "    <tr>\n",
       "      <th>179</th>\n",
       "      <td>KP781</td>\n",
       "      <td>48</td>\n",
       "      <td>Male</td>\n",
       "      <td>18</td>\n",
       "      <td>Partnered</td>\n",
       "      <td>4</td>\n",
       "      <td>5</td>\n",
       "      <td>95508</td>\n",
       "      <td>180</td>\n",
       "    </tr>\n",
       "  </tbody>\n",
       "</table>\n",
       "<p>107 rows × 9 columns</p>\n",
       "</div>"
      ],
      "text/plain": [
       "    Product  Age  Gender  Education MaritalStatus  Usage  Fitness  Income  \\\n",
       "2     KP281   19  Female         14     Partnered      4        3   30699   \n",
       "4     KP281   20    Male         13     Partnered      4        2   35247   \n",
       "5     KP281   20  Female         14     Partnered      3        3   32973   \n",
       "6     KP281   21  Female         14     Partnered      3        3   35247   \n",
       "9     KP281   21  Female         15     Partnered      2        3   37521   \n",
       "..      ...  ...     ...        ...           ...    ...      ...     ...   \n",
       "171   KP781   33  Female         18     Partnered      4        5   95866   \n",
       "173   KP781   35    Male         16     Partnered      4        5   92131   \n",
       "174   KP781   38    Male         18     Partnered      5        5  104581   \n",
       "178   KP781   47    Male         18     Partnered      4        5  104581   \n",
       "179   KP781   48    Male         18     Partnered      4        5   95508   \n",
       "\n",
       "     Miles  \n",
       "2       66  \n",
       "4       47  \n",
       "5       66  \n",
       "6       75  \n",
       "9       85  \n",
       "..     ...  \n",
       "171    200  \n",
       "173    360  \n",
       "174    150  \n",
       "178    120  \n",
       "179    180  \n",
       "\n",
       "[107 rows x 9 columns]"
      ]
     },
     "execution_count": 43,
     "metadata": {},
     "output_type": "execute_result"
    }
   ],
   "source": [
    "M=df[df['MaritalStatus']=='Partnered']\n",
    "M"
   ]
  },
  {
   "cell_type": "code",
   "execution_count": 44,
   "id": "31c4cce7",
   "metadata": {},
   "outputs": [
    {
     "data": {
      "text/plain": [
       "Fitness  MaritalStatus\n",
       "1        Partnered         1\n",
       "2        Partnered        18\n",
       "3        Partnered        57\n",
       "4        Partnered        13\n",
       "5        Partnered        18\n",
       "Name: MaritalStatus, dtype: int64"
      ]
     },
     "execution_count": 44,
     "metadata": {},
     "output_type": "execute_result"
    }
   ],
   "source": [
    "j=M.groupby('Fitness')['MaritalStatus'].value_counts()\n",
    "j"
   ]
  },
  {
   "cell_type": "markdown",
   "id": "c4465dba",
   "metadata": {},
   "source": [
    "* In partnered there is 18 peoples have fitness 5 \n",
    "* 13 peoples have fitness 13 \n",
    "* majority of partnered have fitness 3"
   ]
  },
  {
   "cell_type": "code",
   "execution_count": 45,
   "id": "6916caa9",
   "metadata": {},
   "outputs": [
    {
     "data": {
      "text/plain": [
       "104581"
      ]
     },
     "execution_count": 45,
     "metadata": {},
     "output_type": "execute_result"
    }
   ],
   "source": [
    "M.Income.max()"
   ]
  },
  {
   "cell_type": "code",
   "execution_count": 46,
   "id": "fa3cbf9e",
   "metadata": {},
   "outputs": [
    {
     "data": {
      "text/plain": [
       "360"
      ]
     },
     "execution_count": 46,
     "metadata": {},
     "output_type": "execute_result"
    }
   ],
   "source": [
    "M.Miles.max()"
   ]
  },
  {
   "cell_type": "markdown",
   "id": "cba38e2a",
   "metadata": {},
   "source": [
    "* partnered peoples are walk around 360 miles"
   ]
  },
  {
   "cell_type": "markdown",
   "id": "ba023537",
   "metadata": {},
   "source": [
    "# Which product is mostly purchased by partnered?"
   ]
  },
  {
   "cell_type": "code",
   "execution_count": 47,
   "id": "d2aa0cd7",
   "metadata": {},
   "outputs": [
    {
     "data": {
      "text/plain": [
       "Product  MaritalStatus\n",
       "KP281    Partnered        48\n",
       "KP481    Partnered        36\n",
       "KP781    Partnered        23\n",
       "Name: MaritalStatus, dtype: int64"
      ]
     },
     "execution_count": 47,
     "metadata": {},
     "output_type": "execute_result"
    }
   ],
   "source": [
    "MP=M.groupby('Product')['MaritalStatus'].value_counts()\n",
    "MP"
   ]
  },
  {
   "cell_type": "markdown",
   "id": "ef448bf2",
   "metadata": {},
   "source": [
    "ANS: KP281"
   ]
  },
  {
   "cell_type": "markdown",
   "id": "19ebe903",
   "metadata": {},
   "source": [
    "* In partnered people 48 people purchased KP281\n",
    "* 36 people purchased KP481\n",
    "* 23 people purchased KP781"
   ]
  },
  {
   "cell_type": "markdown",
   "id": "348aa04f",
   "metadata": {},
   "source": [
    "# PRODUCT"
   ]
  },
  {
   "cell_type": "markdown",
   "id": "23a9fa06",
   "metadata": {},
   "source": [
    "# Which product purchased by the customer mostly?"
   ]
  },
  {
   "cell_type": "code",
   "execution_count": 48,
   "id": "62d50e63",
   "metadata": {},
   "outputs": [
    {
     "data": {
      "text/plain": [
       "[]"
      ]
     },
     "execution_count": 48,
     "metadata": {},
     "output_type": "execute_result"
    },
    {
     "data": {
      "image/png": "[encoded data removed]",
      "text/plain": [
       "<Figure size 432x288 with 1 Axes>"
      ]
     },
     "metadata": {
      "needs_background": "light"
     },
     "output_type": "display_data"
    }
   ],
   "source": [
    "sns.countplot(x=df.Product,data=df)\n",
    "plt.plot()"
   ]
  },
  {
   "cell_type": "markdown",
   "id": "63a3adf8",
   "metadata": {},
   "source": [
    "ANS: KP281 is purchased mostly"
   ]
  },
  {
   "cell_type": "markdown",
   "id": "86e02c7a",
   "metadata": {},
   "source": [
    "# MARITAL_STATUS v/s FITNESS"
   ]
  },
  {
   "cell_type": "code",
   "execution_count": 49,
   "id": "57ed41d3",
   "metadata": {},
   "outputs": [
    {
     "data": {
      "text/plain": [
       "[]"
      ]
     },
     "execution_count": 49,
     "metadata": {},
     "output_type": "execute_result"
    },
    {
     "data": {
      "image/png": "[encoded data removed]",
      "text/plain": [
       "<Figure size 432x288 with 1 Axes>"
      ]
     },
     "metadata": {
      "needs_background": "light"
     },
     "output_type": "display_data"
    }
   ],
   "source": [
    "sns.boxplot(x=df.MaritalStatus,y=df.Fitness,data=df)\n",
    "plt.plot()"
   ]
  },
  {
   "cell_type": "code",
   "execution_count": 50,
   "id": "7c1673f8",
   "metadata": {},
   "outputs": [
    {
     "data": {
      "text/plain": [
       "[]"
      ]
     },
     "execution_count": 50,
     "metadata": {},
     "output_type": "execute_result"
    },
    {
     "data": {
      "image/png": "[encoded data removed]",
      "text/plain": [
       "<Figure size 432x288 with 1 Axes>"
      ]
     },
     "metadata": {
      "needs_background": "light"
     },
     "output_type": "display_data"
    }
   ],
   "source": [
    "sns.barplot(x=df.MaritalStatus,y=df.Fitness,data=df)\n",
    "plt.plot()"
   ]
  },
  {
   "cell_type": "markdown",
   "id": "2e5d54c9",
   "metadata": {},
   "source": [
    "* The count of fitness more in single but its not that much less in partnered "
   ]
  },
  {
   "cell_type": "markdown",
   "id": "b7731617",
   "metadata": {},
   "source": [
    "# Relationship b/w gender,fitness,product"
   ]
  },
  {
   "cell_type": "code",
   "execution_count": 51,
   "id": "5603b507",
   "metadata": {},
   "outputs": [
    {
     "data": {
      "text/plain": [
       "[]"
      ]
     },
     "execution_count": 51,
     "metadata": {},
     "output_type": "execute_result"
    },
    {
     "data": {
      "image/png": "[encoded data removed]",
      "text/plain": [
       "<Figure size 720x720 with 1 Axes>"
      ]
     },
     "metadata": {
      "needs_background": "light"
     },
     "output_type": "display_data"
    }
   ],
   "source": [
    "plt.figure(figsize=(10,10))\n",
    "sns.barplot(x=df.Product,y=df.Fitness,data=df,hue='Gender')\n",
    "plt.plot()"
   ]
  },
  {
   "cell_type": "markdown",
   "id": "e339b1eb",
   "metadata": {},
   "source": [
    "\n",
    "* Count  of fitness more in male\n",
    "\n",
    "* majority of high fitnessed male and female using KP781 product compaired to other product"
   ]
  },
  {
   "cell_type": "markdown",
   "id": "d91dfbd5",
   "metadata": {},
   "source": [
    "# PRODUCT v/s USAGE"
   ]
  },
  {
   "cell_type": "markdown",
   "id": "8ea10673",
   "metadata": {},
   "source": [
    "# Range of usage of KP281"
   ]
  },
  {
   "cell_type": "code",
   "execution_count": 52,
   "id": "7d991570",
   "metadata": {},
   "outputs": [
    {
     "data": {
      "text/html": [
       "<div>\n",
       "<style scoped>\n",
       "    .dataframe tbody tr th:only-of-type {\n",
       "        vertical-align: middle;\n",
       "    }\n",
       "\n",
       "    .dataframe tbody tr th {\n",
       "        vertical-align: top;\n",
       "    }\n",
       "\n",
       "    .dataframe thead th {\n",
       "        text-align: right;\n",
       "    }\n",
       "</style>\n",
       "<table border=\"1\" class=\"dataframe\">\n",
       "  <thead>\n",
       "    <tr style=\"text-align: right;\">\n",
       "      <th></th>\n",
       "      <th>Product</th>\n",
       "      <th>Age</th>\n",
       "      <th>Gender</th>\n",
       "      <th>Education</th>\n",
       "      <th>MaritalStatus</th>\n",
       "      <th>Usage</th>\n",
       "      <th>Fitness</th>\n",
       "      <th>Income</th>\n",
       "      <th>Miles</th>\n",
       "    </tr>\n",
       "  </thead>\n",
       "  <tbody>\n",
       "    <tr>\n",
       "      <th>0</th>\n",
       "      <td>KP281</td>\n",
       "      <td>18</td>\n",
       "      <td>Male</td>\n",
       "      <td>14</td>\n",
       "      <td>Single</td>\n",
       "      <td>3</td>\n",
       "      <td>4</td>\n",
       "      <td>29562</td>\n",
       "      <td>112</td>\n",
       "    </tr>\n",
       "    <tr>\n",
       "      <th>1</th>\n",
       "      <td>KP281</td>\n",
       "      <td>19</td>\n",
       "      <td>Male</td>\n",
       "      <td>15</td>\n",
       "      <td>Single</td>\n",
       "      <td>2</td>\n",
       "      <td>3</td>\n",
       "      <td>31836</td>\n",
       "      <td>75</td>\n",
       "    </tr>\n",
       "    <tr>\n",
       "      <th>2</th>\n",
       "      <td>KP281</td>\n",
       "      <td>19</td>\n",
       "      <td>Female</td>\n",
       "      <td>14</td>\n",
       "      <td>Partnered</td>\n",
       "      <td>4</td>\n",
       "      <td>3</td>\n",
       "      <td>30699</td>\n",
       "      <td>66</td>\n",
       "    </tr>\n",
       "    <tr>\n",
       "      <th>3</th>\n",
       "      <td>KP281</td>\n",
       "      <td>19</td>\n",
       "      <td>Male</td>\n",
       "      <td>12</td>\n",
       "      <td>Single</td>\n",
       "      <td>3</td>\n",
       "      <td>3</td>\n",
       "      <td>32973</td>\n",
       "      <td>85</td>\n",
       "    </tr>\n",
       "    <tr>\n",
       "      <th>4</th>\n",
       "      <td>KP281</td>\n",
       "      <td>20</td>\n",
       "      <td>Male</td>\n",
       "      <td>13</td>\n",
       "      <td>Partnered</td>\n",
       "      <td>4</td>\n",
       "      <td>2</td>\n",
       "      <td>35247</td>\n",
       "      <td>47</td>\n",
       "    </tr>\n",
       "    <tr>\n",
       "      <th>...</th>\n",
       "      <td>...</td>\n",
       "      <td>...</td>\n",
       "      <td>...</td>\n",
       "      <td>...</td>\n",
       "      <td>...</td>\n",
       "      <td>...</td>\n",
       "      <td>...</td>\n",
       "      <td>...</td>\n",
       "      <td>...</td>\n",
       "    </tr>\n",
       "    <tr>\n",
       "      <th>75</th>\n",
       "      <td>KP281</td>\n",
       "      <td>43</td>\n",
       "      <td>Male</td>\n",
       "      <td>16</td>\n",
       "      <td>Partnered</td>\n",
       "      <td>3</td>\n",
       "      <td>3</td>\n",
       "      <td>53439</td>\n",
       "      <td>66</td>\n",
       "    </tr>\n",
       "    <tr>\n",
       "      <th>76</th>\n",
       "      <td>KP281</td>\n",
       "      <td>44</td>\n",
       "      <td>Female</td>\n",
       "      <td>16</td>\n",
       "      <td>Single</td>\n",
       "      <td>3</td>\n",
       "      <td>4</td>\n",
       "      <td>57987</td>\n",
       "      <td>75</td>\n",
       "    </tr>\n",
       "    <tr>\n",
       "      <th>77</th>\n",
       "      <td>KP281</td>\n",
       "      <td>46</td>\n",
       "      <td>Female</td>\n",
       "      <td>16</td>\n",
       "      <td>Partnered</td>\n",
       "      <td>3</td>\n",
       "      <td>2</td>\n",
       "      <td>60261</td>\n",
       "      <td>47</td>\n",
       "    </tr>\n",
       "    <tr>\n",
       "      <th>78</th>\n",
       "      <td>KP281</td>\n",
       "      <td>47</td>\n",
       "      <td>Male</td>\n",
       "      <td>16</td>\n",
       "      <td>Partnered</td>\n",
       "      <td>4</td>\n",
       "      <td>3</td>\n",
       "      <td>56850</td>\n",
       "      <td>94</td>\n",
       "    </tr>\n",
       "    <tr>\n",
       "      <th>79</th>\n",
       "      <td>KP281</td>\n",
       "      <td>50</td>\n",
       "      <td>Female</td>\n",
       "      <td>16</td>\n",
       "      <td>Partnered</td>\n",
       "      <td>3</td>\n",
       "      <td>3</td>\n",
       "      <td>64809</td>\n",
       "      <td>66</td>\n",
       "    </tr>\n",
       "  </tbody>\n",
       "</table>\n",
       "<p>80 rows × 9 columns</p>\n",
       "</div>"
      ],
      "text/plain": [
       "   Product  Age  Gender  Education MaritalStatus  Usage  Fitness  Income  \\\n",
       "0    KP281   18    Male         14        Single      3        4   29562   \n",
       "1    KP281   19    Male         15        Single      2        3   31836   \n",
       "2    KP281   19  Female         14     Partnered      4        3   30699   \n",
       "3    KP281   19    Male         12        Single      3        3   32973   \n",
       "4    KP281   20    Male         13     Partnered      4        2   35247   \n",
       "..     ...  ...     ...        ...           ...    ...      ...     ...   \n",
       "75   KP281   43    Male         16     Partnered      3        3   53439   \n",
       "76   KP281   44  Female         16        Single      3        4   57987   \n",
       "77   KP281   46  Female         16     Partnered      3        2   60261   \n",
       "78   KP281   47    Male         16     Partnered      4        3   56850   \n",
       "79   KP281   50  Female         16     Partnered      3        3   64809   \n",
       "\n",
       "    Miles  \n",
       "0     112  \n",
       "1      75  \n",
       "2      66  \n",
       "3      85  \n",
       "4      47  \n",
       "..    ...  \n",
       "75     66  \n",
       "76     75  \n",
       "77     47  \n",
       "78     94  \n",
       "79     66  \n",
       "\n",
       "[80 rows x 9 columns]"
      ]
     },
     "execution_count": 52,
     "metadata": {},
     "output_type": "execute_result"
    }
   ],
   "source": [
    "dx=df[df['Product']=='KP281']\n",
    "dx"
   ]
  },
  {
   "cell_type": "code",
   "execution_count": 53,
   "id": "cb56a534",
   "metadata": {},
   "outputs": [
    {
     "data": {
      "text/plain": [
       "[]"
      ]
     },
     "execution_count": 53,
     "metadata": {},
     "output_type": "execute_result"
    },
    {
     "data": {
      "image/png": "[encoded data removed]",
      "text/plain": [
       "<Figure size 432x288 with 1 Axes>"
      ]
     },
     "metadata": {
      "needs_background": "light"
     },
     "output_type": "display_data"
    }
   ],
   "source": [
    "sns.boxplot(x=dx['Product'],y=dx['Usage'] ,data=dx)\n",
    "plt.plot()"
   ]
  },
  {
   "cell_type": "code",
   "execution_count": 54,
   "id": "e3c2202e",
   "metadata": {},
   "outputs": [
    {
     "name": "stdout",
     "output_type": "stream",
     "text": [
      "3.0\n"
     ]
    }
   ],
   "source": [
    "s1=print(np.percentile(dx.Usage,25))\n",
    "s1"
   ]
  },
  {
   "cell_type": "code",
   "execution_count": 55,
   "id": "3561d7cc",
   "metadata": {},
   "outputs": [
    {
     "name": "stdout",
     "output_type": "stream",
     "text": [
      "3.0\n"
     ]
    }
   ],
   "source": [
    "s2=print(np.percentile(dx.Usage,50))\n",
    "s2"
   ]
  },
  {
   "cell_type": "code",
   "execution_count": 56,
   "id": "cb3f327c",
   "metadata": {},
   "outputs": [
    {
     "name": "stdout",
     "output_type": "stream",
     "text": [
      "4.0\n"
     ]
    }
   ],
   "source": [
    "s3=print(np.percentile(dx.Usage,75))\n",
    "s3"
   ]
  },
  {
   "cell_type": "code",
   "execution_count": null,
   "id": "513fc86a",
   "metadata": {},
   "outputs": [],
   "source": [
    "IQR=np.percentile(dx.Usage,75)-np.percentile(dx.Usage,25)\n",
    "IQR"
   ]
  },
  {
   "cell_type": "code",
   "execution_count": null,
   "id": "2f415d99",
   "metadata": {},
   "outputs": [],
   "source": [
    "UPPER=np.percentile(dx.Usage,75)+1.5*IQR\n",
    "LOWER=np.percentile(dx.Usage,25)-1.5*IQR\n"
   ]
  },
  {
   "cell_type": "code",
   "execution_count": null,
   "id": "4c425d08",
   "metadata": {},
   "outputs": [],
   "source": [
    "UPPER"
   ]
  },
  {
   "cell_type": "code",
   "execution_count": null,
   "id": "4c6f2412",
   "metadata": {},
   "outputs": [],
   "source": [
    "LOWER"
   ]
  },
  {
   "cell_type": "code",
   "execution_count": null,
   "id": "cf4cd105",
   "metadata": {},
   "outputs": [],
   "source": [
    "du=dx[(dx['Usage']<1.5)|(dx['Usage']>5.5)]"
   ]
  },
  {
   "cell_type": "code",
   "execution_count": null,
   "id": "9e721085",
   "metadata": {},
   "outputs": [],
   "source": [
    "du"
   ]
  },
  {
   "cell_type": "code",
   "execution_count": null,
   "id": "9e635ee4",
   "metadata": {},
   "outputs": [],
   "source": [
    "dx.groupby('Usage')['Gender'].count()"
   ]
  },
  {
   "cell_type": "markdown",
   "id": "eeda058e",
   "metadata": {},
   "source": [
    "\n",
    "* All the usage of KP281 lies in between the range 1.5 and 5.5\n",
    "* There is no one using the product out of range "
   ]
  },
  {
   "cell_type": "markdown",
   "id": "a1f9a1ab",
   "metadata": {},
   "source": [
    "# Range of usage of KP481"
   ]
  },
  {
   "cell_type": "code",
   "execution_count": null,
   "id": "12a336f7",
   "metadata": {},
   "outputs": [],
   "source": [
    "dy=df[df['Product']=='KP481']\n",
    "dy.reset_index()"
   ]
  },
  {
   "cell_type": "code",
   "execution_count": null,
   "id": "b517ace5",
   "metadata": {},
   "outputs": [],
   "source": [
    "sns.boxplot(y=dy['Usage'],x=dy['Product'],data=dy)\n",
    "plt.plot()"
   ]
  },
  {
   "cell_type": "code",
   "execution_count": null,
   "id": "09dcca3f",
   "metadata": {},
   "outputs": [],
   "source": [
    "np.percentile(dy.Usage,25)"
   ]
  },
  {
   "cell_type": "code",
   "execution_count": null,
   "id": "414eeb1a",
   "metadata": {},
   "outputs": [],
   "source": [
    "np.percentile(dy.Usage,50)"
   ]
  },
  {
   "cell_type": "code",
   "execution_count": null,
   "id": "95b5c874",
   "metadata": {},
   "outputs": [],
   "source": [
    "np.percentile(dy.Usage,75)"
   ]
  },
  {
   "cell_type": "code",
   "execution_count": null,
   "id": "04244376",
   "metadata": {},
   "outputs": [],
   "source": [
    "IQR=np.percentile(dy.Usage,75)-np.percentile(dy.Usage,25)"
   ]
  },
  {
   "cell_type": "code",
   "execution_count": null,
   "id": "ddda27de",
   "metadata": {},
   "outputs": [],
   "source": [
    "IQR"
   ]
  },
  {
   "cell_type": "code",
   "execution_count": null,
   "id": "4a35836c",
   "metadata": {},
   "outputs": [],
   "source": [
    "UPPER=np.percentile(dy.Usage,75)+1.5*IQR\n",
    "LOWER=np.percentile(dy.Usage,25)-1.5*IQR\n",
    "UPPER"
   ]
  },
  {
   "cell_type": "code",
   "execution_count": null,
   "id": "0d750fe4",
   "metadata": {},
   "outputs": [],
   "source": [
    "LOWER"
   ]
  },
  {
   "cell_type": "code",
   "execution_count": null,
   "id": "20bdfc81",
   "metadata": {},
   "outputs": [],
   "source": [
    "dw=dy[(dy['Usage']<2.625)|(dy['Usage']>3.625)]\n",
    "dw.reset_index()"
   ]
  },
  {
   "cell_type": "code",
   "execution_count": null,
   "id": "6ea8959b",
   "metadata": {},
   "outputs": [],
   "source": [
    "dy.groupby('Usage')['Gender'].count()"
   ]
  },
  {
   "cell_type": "markdown",
   "id": "653eb4de",
   "metadata": {},
   "source": [
    "* We found that there is some people around 29 (2,4,5) using the product out   of range and also below the lower limit\n",
    "* The usage of product KP481 lies in between the range 2.625 and 3.625"
   ]
  },
  {
   "cell_type": "markdown",
   "id": "25b3e70c",
   "metadata": {},
   "source": [
    "# Range of usage of KP781"
   ]
  },
  {
   "cell_type": "code",
   "execution_count": null,
   "id": "c43a556e",
   "metadata": {},
   "outputs": [],
   "source": [
    "dz=df[df['Product']=='KP781']"
   ]
  },
  {
   "cell_type": "code",
   "execution_count": null,
   "id": "8d380f26",
   "metadata": {},
   "outputs": [],
   "source": [
    "dz"
   ]
  },
  {
   "cell_type": "code",
   "execution_count": 15,
   "id": "df259373",
   "metadata": {},
   "outputs": [
    {
     "ename": "NameError",
     "evalue": "name 'dz' is not defined",
     "output_type": "error",
     "traceback": [
      "\u001b[1;31m---------------------------------------------------------------------------\u001b[0m",
      "\u001b[1;31mNameError\u001b[0m                                 Traceback (most recent call last)",
      "Input \u001b[1;32mIn [15]\u001b[0m, in \u001b[0;36m<cell line: 1>\u001b[1;34m()\u001b[0m\n\u001b[1;32m----> 1\u001b[0m sns\u001b[38;5;241m.\u001b[39mboxplot(y\u001b[38;5;241m=\u001b[39m\u001b[43mdz\u001b[49m\u001b[38;5;241m.\u001b[39mUsage,x\u001b[38;5;241m=\u001b[39mdz\u001b[38;5;241m.\u001b[39mProduct,data\u001b[38;5;241m=\u001b[39mdz)\n\u001b[0;32m      2\u001b[0m plt\u001b[38;5;241m.\u001b[39mplot()\n",
      "\u001b[1;31mNameError\u001b[0m: name 'dz' is not defined"
     ]
    }
   ],
   "source": [
    "sns.boxplot(y=dz.Usage,x=dz.Product,data=dz)\n",
    "plt.plot()"
   ]
  },
  {
   "cell_type": "code",
   "execution_count": null,
   "id": "da67d85d",
   "metadata": {},
   "outputs": [],
   "source": [
    "np.percentile(dz.Usage,25)"
   ]
  },
  {
   "cell_type": "code",
   "execution_count": null,
   "id": "d4db083f",
   "metadata": {},
   "outputs": [],
   "source": [
    "np.percentile(dz.Usage,50)"
   ]
  },
  {
   "cell_type": "code",
   "execution_count": null,
   "id": "b71b6979",
   "metadata": {},
   "outputs": [],
   "source": [
    "np.percentile(dz.Usage,75)"
   ]
  },
  {
   "cell_type": "code",
   "execution_count": null,
   "id": "24067e34",
   "metadata": {},
   "outputs": [],
   "source": [
    "IQR=np.percentile(dz.Usage,75)-np.percentile(dz.Usage,25)\n",
    "IQR"
   ]
  },
  {
   "cell_type": "code",
   "execution_count": null,
   "id": "83f3a1f7",
   "metadata": {},
   "outputs": [],
   "source": [
    "UPPER=np.percentile(dz.Usage,75)+1.5*IQR\n",
    "LOWER=np.percentile(dz.Usage,25)-1.5*IQR"
   ]
  },
  {
   "cell_type": "code",
   "execution_count": null,
   "id": "db89e5df",
   "metadata": {},
   "outputs": [],
   "source": [
    "UPPER"
   ]
  },
  {
   "cell_type": "code",
   "execution_count": null,
   "id": "bc737179",
   "metadata": {},
   "outputs": [],
   "source": [
    "LOWER"
   ]
  },
  {
   "cell_type": "code",
   "execution_count": null,
   "id": "9b285ebd",
   "metadata": {},
   "outputs": [],
   "source": []
  },
  {
   "cell_type": "code",
   "execution_count": null,
   "id": "2d6d93b9",
   "metadata": {},
   "outputs": [],
   "source": [
    "sns.boxplot(y=dz.Usage,x=dz.Product,data=dz)\n",
    "plt.plot()"
   ]
  },
  {
   "cell_type": "code",
   "execution_count": null,
   "id": "d3158e5e",
   "metadata": {},
   "outputs": [],
   "source": [
    "dz[(dz['Usage']<2.5)|(dz['Usage']>6.5)]"
   ]
  },
  {
   "cell_type": "markdown",
   "id": "4a9888ea",
   "metadata": {},
   "source": [
    "* We found that there is around 2 people using the product out of range  ,above the upper limit (value=7)\n",
    "* The usage of product KP781 lies in between the range 2.5 and 6.5\n",
    "* from the trable we can say that it is two men who is using the product more than the limit "
   ]
  },
  {
   "cell_type": "markdown",
   "id": "aabf386c",
   "metadata": {},
   "source": [
    "# FITNESS v/s GENDER"
   ]
  },
  {
   "cell_type": "markdown",
   "id": "7b047321",
   "metadata": {},
   "source": [
    "# Which gender have more fitness?"
   ]
  },
  {
   "cell_type": "code",
   "execution_count": null,
   "id": "1658416d",
   "metadata": {},
   "outputs": [],
   "source": [
    "df"
   ]
  },
  {
   "cell_type": "code",
   "execution_count": null,
   "id": "5f3075b5",
   "metadata": {},
   "outputs": [],
   "source": [
    "c=pd.crosstab(df.Gender,df.Fitness,margins=True)"
   ]
  },
  {
   "cell_type": "code",
   "execution_count": null,
   "id": "e6d89202",
   "metadata": {},
   "outputs": [],
   "source": [
    "c"
   ]
  },
  {
   "cell_type": "code",
   "execution_count": null,
   "id": "11d06bc4",
   "metadata": {},
   "outputs": [],
   "source": [
    "c['p(Fitness1)/Gender']=c[1]*100/c['All']\n",
    "c['p(Fitness2)/Gender']=c[2]*100/c['All']\n",
    "c['p(Fitness3)/Gender']=c[3]*100/c['All']\n",
    "c['p(Fitness4)/Gender']=c[4]*100/c['All']\n",
    "c['p(Fitness5)/Gender']=c[5]*100/c['All']\n",
    "c"
   ]
  },
  {
   "cell_type": "code",
   "execution_count": null,
   "id": "5207a18b",
   "metadata": {},
   "outputs": [],
   "source": [
    "c.drop('All')['p(Fitness1)/Gender'].plot.bar()\n",
    "plt.title('Gender have fitness ponit 1')\n",
    "plt.ylabel('Fitness %')\n",
    "plt.show()"
   ]
  },
  {
   "cell_type": "code",
   "execution_count": null,
   "id": "345aa4c7",
   "metadata": {},
   "outputs": [],
   "source": [
    "c.drop('All')['p(Fitness2)/Gender'].plot.bar()\n",
    "plt.title('Gender have fitness ponit 2')\n",
    "plt.ylabel('Fitness %')\n",
    "plt.show()"
   ]
  },
  {
   "cell_type": "code",
   "execution_count": null,
   "id": "066e5ced",
   "metadata": {},
   "outputs": [],
   "source": [
    "c.drop('All')['p(Fitness3)/Gender'].plot.bar()\n",
    "plt.title('Gender have fitness ponit 3')\n",
    "plt.ylabel('Fitness %')\n",
    "plt.show()"
   ]
  },
  {
   "cell_type": "code",
   "execution_count": null,
   "id": "7bf19873",
   "metadata": {},
   "outputs": [],
   "source": [
    "c.drop('All')['p(Fitness4)/Gender'].plot.bar()\n",
    "plt.title('Gender have fitness ponit 4')\n",
    "plt.ylabel('Fitness %')\n",
    "plt.show()"
   ]
  },
  {
   "cell_type": "code",
   "execution_count": null,
   "id": "3fe4dbab",
   "metadata": {},
   "outputs": [],
   "source": [
    "c.drop('All')['p(Fitness5)/Gender'].plot.bar()\n",
    "plt.title('Gender have fitness ponit 5')\n",
    "plt.ylabel('Fitness %')\n",
    "plt.show()"
   ]
  },
  {
   "cell_type": "code",
   "execution_count": null,
   "id": "66a7bdda",
   "metadata": {},
   "outputs": [],
   "source": [
    "pd.crosstab(df.Gender,df.Fitness).plot.bar()\n",
    "plt.show()"
   ]
  },
  {
   "cell_type": "markdown",
   "id": "f5147dbf",
   "metadata": {},
   "source": [
    "* By analysing this data we can say that people who have low  fitness is female compaired to male \n",
    "* The percentage of male have fitness point 1,2,3 are less compaired to female \n",
    "* But after the 3 gragh 2 plots shows that the percentage of people who have high fitness is becomes to men \n",
    "* Its around 24%"
   ]
  },
  {
   "cell_type": "markdown",
   "id": "0cd4ad3a",
   "metadata": {},
   "source": [
    "# Which product is mostly used while people walks >200?"
   ]
  },
  {
   "cell_type": "code",
   "execution_count": null,
   "id": "0a1b4553",
   "metadata": {},
   "outputs": [],
   "source": [
    "Mil=df[df['Miles']>200]\n",
    "Mil"
   ]
  },
  {
   "cell_type": "code",
   "execution_count": null,
   "id": "1215cc7f",
   "metadata": {},
   "outputs": [],
   "source": [
    "G=pd.crosstab(Mil.Gender,Mil.Miles,margins=True)\n",
    "G"
   ]
  },
  {
   "cell_type": "code",
   "execution_count": null,
   "id": "8b4ef1da",
   "metadata": {},
   "outputs": [],
   "source": [
    "Mil.Gender.value_counts()"
   ]
  },
  {
   "cell_type": "code",
   "execution_count": null,
   "id": "e8fb809c",
   "metadata": {
    "scrolled": true
   },
   "outputs": [],
   "source": [
    "Mil.groupby('Gender')['Miles'].value_counts()"
   ]
  },
  {
   "cell_type": "code",
   "execution_count": null,
   "id": "3ec85596",
   "metadata": {},
   "outputs": [],
   "source": [
    "pd.crosstab(Mil.Gender,Mil.Miles).plot.bar()\n",
    "plt.show()"
   ]
  },
  {
   "cell_type": "code",
   "execution_count": null,
   "id": "13e31268",
   "metadata": {},
   "outputs": [],
   "source": [
    "P=pd.crosstab(Mil.Miles,Mil.Product,margins=True)"
   ]
  },
  {
   "cell_type": "code",
   "execution_count": null,
   "id": "cc753d19",
   "metadata": {},
   "outputs": [],
   "source": [
    "P"
   ]
  },
  {
   "cell_type": "code",
   "execution_count": null,
   "id": "fbfc4ac4",
   "metadata": {},
   "outputs": [],
   "source": [
    "P['PROB']=P['KP781']*100/P['All']"
   ]
  },
  {
   "cell_type": "code",
   "execution_count": null,
   "id": "a21d5559",
   "metadata": {},
   "outputs": [],
   "source": [
    "P"
   ]
  },
  {
   "cell_type": "markdown",
   "id": "785baa1c",
   "metadata": {},
   "source": [
    "* Majority of people who walks more than 200 using KP781 product \n",
    "* Some people will also using KP481 product as  well\n",
    "* They all married people and also have fitness in the level of 4-5"
   ]
  },
  {
   "cell_type": "markdown",
   "id": "d9a1a972",
   "metadata": {},
   "source": [
    "# AGE v/s PRODUCT"
   ]
  },
  {
   "cell_type": "markdown",
   "id": "d02f839b",
   "metadata": {},
   "source": [
    "# Which product is mostly purchased by all age category?"
   ]
  },
  {
   "cell_type": "code",
   "execution_count": null,
   "id": "2839ff75",
   "metadata": {
    "scrolled": true
   },
   "outputs": [],
   "source": [
    "plt.figure(figsize=(10,5))\n",
    "sns.boxplot(x=df['Age'],y=df['Product'],data=df)\n",
    "plt.plot()"
   ]
  },
  {
   "cell_type": "markdown",
   "id": "27945557",
   "metadata": {},
   "source": [
    "* People who using product KP281 are in the range of age 17 to around 50\n",
    "* People who using product KP481 are in the range of age 19 to around 45\n",
    "* People who using product KP781 are in the range of age 22 to around 38 \n",
    "* Analysing through the data  we can say that  KP281 and KP481 product is favourable all age category \n",
    "* But in the case of KP781 it is mostly used in between adults"
   ]
  },
  {
   "cell_type": "code",
   "execution_count": null,
   "id": "ee0c896d",
   "metadata": {},
   "outputs": [],
   "source": [
    "plt.figure(figsize=(10,10))\n",
    "sns.boxplot(x=df['Age'],y=df['MaritalStatus'],data=df,hue='Product')\n",
    "plt.plot()"
   ]
  },
  {
   "cell_type": "markdown",
   "id": "8235e6cc",
   "metadata": {},
   "source": [
    "* In case of single:\n",
    "    * The product KP281 is mostly used inbetween age 18 to up to 44\n",
    "    * Product KP481 is mostly used in between  age 19 to up to 35\n",
    "    * Product KP481 is mostly used in between  age 23 to up to 34\n",
    "    * From this we can say KP281 is most favourable product for all age groups.\n",
    "* In case of partnered:\n",
    "    * The product KP281 is mostly used inbetween age 19 to up to 50\n",
    "    * The product KP481 is mostly used inbetween age 20 to up to 48\n",
    "    * The product KP781 is mostly used inbetween age 23 to up to 38\n",
    "    * From this we can say  KP281 is most favourable product for all age groups.\n",
    "    "
   ]
  },
  {
   "cell_type": "markdown",
   "id": "7feedec8",
   "metadata": {},
   "source": [
    "# PRODUCT v/s GENDER"
   ]
  },
  {
   "cell_type": "markdown",
   "id": "b0c1938a",
   "metadata": {},
   "source": [
    "# What percent of product have purchased  by each gender?"
   ]
  },
  {
   "cell_type": "code",
   "execution_count": null,
   "id": "877452d8",
   "metadata": {},
   "outputs": [],
   "source": [
    "s=pd.crosstab(df.Gender,df.Product,margins=True)\n",
    "s"
   ]
  },
  {
   "cell_type": "code",
   "execution_count": null,
   "id": "2010b308",
   "metadata": {},
   "outputs": [],
   "source": [
    "s['p(KP281)/Gender']=s['KP281']/s['All']*100\n",
    "s['p(KP481)/Gender']=s['KP481']/s['All']*100\n",
    "s['p(KP781)/Gender']=s['KP781']/s['All']*100\n",
    "s"
   ]
  },
  {
   "cell_type": "markdown",
   "id": "5445e8cf",
   "metadata": {},
   "source": [
    "* By analysing this count plot we can say that out 44% of people using KP281 product compaired to other products\n",
    "* The product least purchased is KP781 :22.222%\n",
    "* From this majority of people using KP281 product is female \n",
    "* We can also say that out of all female the percent of female using KP281 is 52%\n",
    "* Percent of male using KP281 out of all men is 38.46%\n",
    "* Out of all female the percent of female using KP481 is 38.15 % \n",
    "* the percent  of male usinG KP481 out of all male 29.80 \n",
    "* As we analyse the percent of males , we can say the compairing all product most percent of males using KP281"
   ]
  },
  {
   "cell_type": "code",
   "execution_count": null,
   "id": "59b36400",
   "metadata": {},
   "outputs": [],
   "source": [
    "pd.crosstab(df.Gender,df.Product).plot.bar()\n",
    "plt.show()"
   ]
  },
  {
   "cell_type": "markdown",
   "id": "968bbfa8",
   "metadata": {},
   "source": []
  },
  {
   "cell_type": "markdown",
   "id": "aa51aeb4",
   "metadata": {},
   "source": [
    "# What percent of customers have purchased each product?"
   ]
  },
  {
   "cell_type": "code",
   "execution_count": null,
   "id": "d0d80887",
   "metadata": {},
   "outputs": [],
   "source": [
    "Z=pd.crosstab(df.Product,df.Gender,margins=True)\n",
    "Z"
   ]
  },
  {
   "cell_type": "code",
   "execution_count": null,
   "id": "3dbd4f2c",
   "metadata": {},
   "outputs": [],
   "source": [
    "Z['P(Female)/product']=Z['Female']/Z['All']*100\n",
    "Z['P(Male)/product']=Z['Male']/Z['All']*100"
   ]
  },
  {
   "cell_type": "code",
   "execution_count": 16,
   "id": "125b20c0",
   "metadata": {},
   "outputs": [
    {
     "ename": "NameError",
     "evalue": "name 'Z' is not defined",
     "output_type": "error",
     "traceback": [
      "\u001b[1;31m---------------------------------------------------------------------------\u001b[0m",
      "\u001b[1;31mNameError\u001b[0m                                 Traceback (most recent call last)",
      "Input \u001b[1;32mIn [16]\u001b[0m, in \u001b[0;36m<cell line: 1>\u001b[1;34m()\u001b[0m\n\u001b[1;32m----> 1\u001b[0m \u001b[43mZ\u001b[49m\n",
      "\u001b[1;31mNameError\u001b[0m: name 'Z' is not defined"
     ]
    }
   ],
   "source": [
    "Z"
   ]
  },
  {
   "cell_type": "markdown",
   "id": "cb922dbc",
   "metadata": {},
   "source": [
    "* From this we can say that out of all people ,percentage of female and male using KP281 is 50%\n",
    "* Percentage of female and male using KP481 is 48.33 and 51.66 respectively\n",
    "* Percentage of female and male using KP781 is 17.50 and 82.50 respectively"
   ]
  },
  {
   "cell_type": "code",
   "execution_count": null,
   "id": "182e6b76",
   "metadata": {},
   "outputs": [],
   "source": []
  },
  {
   "cell_type": "markdown",
   "id": "33680f13",
   "metadata": {},
   "source": [
    "# INCOME v/s FITNESS "
   ]
  },
  {
   "cell_type": "markdown",
   "id": "b86b948c",
   "metadata": {},
   "source": [
    "# Relation b/w highest income and fitness"
   ]
  },
  {
   "cell_type": "code",
   "execution_count": null,
   "id": "d8f71b77",
   "metadata": {},
   "outputs": [],
   "source": [
    "df.Age .unique()\n"
   ]
  },
  {
   "cell_type": "code",
   "execution_count": null,
   "id": "5e4dd199",
   "metadata": {},
   "outputs": [],
   "source": [
    "V=df[df['Income']==df.Income.max()]\n",
    "V"
   ]
  },
  {
   "cell_type": "code",
   "execution_count": null,
   "id": "18e2ddc1",
   "metadata": {},
   "outputs": [],
   "source": [
    "V['Income'].max()"
   ]
  },
  {
   "cell_type": "code",
   "execution_count": null,
   "id": "4a564d4c",
   "metadata": {},
   "outputs": [],
   "source": [
    "X=pd.crosstab(V.Fitness,V.Income,margins=True)\n",
    "X"
   ]
  },
  {
   "cell_type": "markdown",
   "id": "519880c5",
   "metadata": {},
   "source": [
    "* People who have highest income are using KP781 \n",
    "* They have fitness 5\n",
    "* Married people "
   ]
  },
  {
   "cell_type": "code",
   "execution_count": null,
   "id": "d8dfac5a",
   "metadata": {},
   "outputs": [],
   "source": []
  },
  {
   "cell_type": "markdown",
   "id": "591d6ea0",
   "metadata": {},
   "source": [
    "# MARITAL STATUS v/s PRODUCT"
   ]
  },
  {
   "cell_type": "markdown",
   "id": "b1d66f9e",
   "metadata": {},
   "source": [
    "M=pd.crosstab(df.Product,df.MaritalStatus,margins=True)\n",
    "M"
   ]
  },
  {
   "cell_type": "code",
   "execution_count": null,
   "id": "e19c6e0f",
   "metadata": {},
   "outputs": [],
   "source": [
    "M['p(partnered)/product']=M['Partnered']*100/M['All']\n",
    "M['p(single)/product']=M['Single']*100/M['All']\n",
    "M"
   ]
  },
  {
   "cell_type": "code",
   "execution_count": null,
   "id": "0662423c",
   "metadata": {},
   "outputs": [],
   "source": [
    "pd.crosstab(df.Product,df.MaritalStatus).plot.bar()\n",
    "plt.show()\n"
   ]
  },
  {
   "cell_type": "markdown",
   "id": "f080e07f",
   "metadata": {},
   "source": [
    "* Most married people using KP281 and KP481 products their probability is 60,60 respectively\n",
    "* But in the case of single most of them using KP781 - 42 .50 %\n",
    "* People using trademills are majority of them are married -59.444%\n"
   ]
  },
  {
   "cell_type": "markdown",
   "id": "971d057a",
   "metadata": {},
   "source": [
    "# What perecnt of each product purchased by 'PARTNERED'?"
   ]
  },
  {
   "cell_type": "code",
   "execution_count": null,
   "id": "3081e683",
   "metadata": {},
   "outputs": [],
   "source": [
    "M['p(partnered)/product']=M['Partnered']*100/M['All']\n",
    "M['p(partnered)/product']"
   ]
  },
  {
   "cell_type": "markdown",
   "id": "decdc5a8",
   "metadata": {},
   "source": [
    "* 60% of people who are married are using products KP281 and KP481 \n",
    "* 57.50 of people using KP781"
   ]
  },
  {
   "cell_type": "markdown",
   "id": "8cd755d8",
   "metadata": {},
   "source": [
    "# What perecnt of each product purchased by 'SINGLE'?"
   ]
  },
  {
   "cell_type": "code",
   "execution_count": null,
   "id": "5096b4e2",
   "metadata": {},
   "outputs": [],
   "source": [
    "M['p(single)/product']=M['Single']*100/M['All']"
   ]
  },
  {
   "cell_type": "code",
   "execution_count": null,
   "id": "40be66f4",
   "metadata": {},
   "outputs": [],
   "source": [
    "M['p(single)/product']"
   ]
  },
  {
   "cell_type": "markdown",
   "id": "4e1cfb9e",
   "metadata": {},
   "source": [
    "* 40% of people who are married are using products KP281 and KP481 \n",
    "* 42.50 of people using KP781"
   ]
  },
  {
   "cell_type": "markdown",
   "id": "2237fae2",
   "metadata": {},
   "source": [
    "# PRODUCT v/s FITNESS"
   ]
  },
  {
   "cell_type": "markdown",
   "id": "7e63f0b2",
   "metadata": {},
   "source": [
    "# Using which product gain highest fitness?"
   ]
  },
  {
   "cell_type": "code",
   "execution_count": null,
   "id": "aca5b40f",
   "metadata": {},
   "outputs": [],
   "source": [
    "pd.crosstab(df.Product,df.Fitness).plot.bar()\n",
    "plt.show()"
   ]
  },
  {
   "cell_type": "markdown",
   "id": "8a8c57f1",
   "metadata": {},
   "source": [
    "ANS: KP781"
   ]
  },
  {
   "cell_type": "markdown",
   "id": "28cb19d1",
   "metadata": {},
   "source": [
    "* It shows that the people who have fitness 5 is using product  KP781. \n",
    "* People who purchased KP281 and KP481 have fitness highly in the limit of 2 and 3.\n",
    "* It implies that using product KP781 helps to gain fitness 5 compaired to other products."
   ]
  },
  {
   "cell_type": "markdown",
   "id": "dcda5667",
   "metadata": {},
   "source": [
    "# SELLING PRICE"
   ]
  },
  {
   "cell_type": "markdown",
   "id": "bc50ad4d",
   "metadata": {},
   "source": [
    "# Selling which product gain more profit?"
   ]
  },
  {
   "cell_type": "code",
   "execution_count": null,
   "id": "f9a3166b",
   "metadata": {},
   "outputs": [],
   "source": [
    "Selling_price={'KP281':'1500','KP481':'1750','KP781':'2500'}"
   ]
  },
  {
   "cell_type": "code",
   "execution_count": null,
   "id": "10c07de8",
   "metadata": {},
   "outputs": [],
   "source": [
    "data=df.copy()"
   ]
  },
  {
   "cell_type": "code",
   "execution_count": null,
   "id": "fb96ca48",
   "metadata": {},
   "outputs": [],
   "source": [
    "data['Selling_price']=data['Product'].replace(to_replace=Selling_price)\n",
    "data"
   ]
  },
  {
   "cell_type": "code",
   "execution_count": null,
   "id": "d2afe293",
   "metadata": {},
   "outputs": [],
   "source": [
    "unit_price=data['Selling_price'].unique()\n",
    "unit_price"
   ]
  },
  {
   "cell_type": "code",
   "execution_count": null,
   "id": "73dff57b",
   "metadata": {},
   "outputs": [],
   "source": [
    "Product=data['Product'].unique()\n",
    "Product"
   ]
  },
  {
   "cell_type": "code",
   "execution_count": null,
   "id": "34f115de",
   "metadata": {},
   "outputs": [],
   "source": [
    "quantity=data['Selling_price'].value_counts()\n",
    "quantity"
   ]
  },
  {
   "cell_type": "code",
   "execution_count": null,
   "id": "8ae8b9f3",
   "metadata": {},
   "outputs": [],
   "source": [
    "for i in range(len(unit_price)):\n",
    "    total_sale= quantity[i] * int(unit_price[i])\n",
    "    print('Total sale  for {} treadmill of unit  price ${} is ${} '.format(Product[i],int(unit_price[i]),total_sale))"
   ]
  },
  {
   "cell_type": "markdown",
   "id": "ad3541d7",
   "metadata": {},
   "source": [
    "* From this we can say that most saled treadmill product is KP281 with selling quantity 80\n",
    "\n",
    "* Compaired to other treadmill KP281 also have cheapest rate  .highest income gain by selling kP281\n",
    "\n",
    "* However the count of sale is less but the product KP781 gain more profit "
   ]
  },
  {
   "cell_type": "markdown",
   "id": "1d93826a",
   "metadata": {},
   "source": [
    "# INCOME v/s PRODUCT"
   ]
  },
  {
   "cell_type": "code",
   "execution_count": null,
   "id": "7916fa6d",
   "metadata": {},
   "outputs": [],
   "source": [
    "bins1=[20000,30000,40000,50000,60000,70000,80000,90000,100000,110000]\n",
    "labels1=['20k-30k','30k-40k','40k-50k','50k-60k','60k-70k','70k-80k','80k-90k','90k-100K','100K-110K']\n",
    "data['Income']=pd.cut(data['Income'],bins=bins1,labels=labels1)\n",
    "data"
   ]
  },
  {
   "cell_type": "code",
   "execution_count": null,
   "id": "d91afe2d",
   "metadata": {},
   "outputs": [],
   "source": [
    "plt.figure(figsize=(10,9))\n",
    "sns.countplot(x=data.Income,data=data)\n",
    "plt.xticks(rotation=90)\n",
    "plt.title('Range of income')\n",
    "plt.plot()"
   ]
  },
  {
   "cell_type": "markdown",
   "id": "1e415e39",
   "metadata": {},
   "source": [
    "* Majority of people have income 50k-60k\n",
    "* people have lower salary package is less\n",
    "\n"
   ]
  },
  {
   "cell_type": "code",
   "execution_count": null,
   "id": "794336ff",
   "metadata": {},
   "outputs": [],
   "source": [
    "plt.figure(figsize=(10,10))\n",
    "sns.barplot(x=data.Income,y=data.Fitness,data=data)\n",
    "plt.xticks(rotation=90)\n",
    "plt.title('INCOME v/s FITNESS')\n",
    "plt.plot()"
   ]
  },
  {
   "cell_type": "markdown",
   "id": "bc4bedb4",
   "metadata": {},
   "source": [
    "* People who have salary between 90k-100k have highest fitness ,because they are using product KP781\n",
    "\n",
    "* people with salary 30k-40k have lowest  fitness compaired to others \n",
    "\n",
    "* Even people with salary 20-30k are using product KP281 but they maintain their fitness or have higher fitness than people with   salary between 30k-70k.\n",
    "\n",
    "* It shows even those with lower salary packages can maintain fitness if they want to."
   ]
  },
  {
   "cell_type": "code",
   "execution_count": 17,
   "id": "4cd9036f",
   "metadata": {},
   "outputs": [
    {
     "ename": "NameError",
     "evalue": "name 'data' is not defined",
     "output_type": "error",
     "traceback": [
      "\u001b[1;31m---------------------------------------------------------------------------\u001b[0m",
      "\u001b[1;31mNameError\u001b[0m                                 Traceback (most recent call last)",
      "Input \u001b[1;32mIn [17]\u001b[0m, in \u001b[0;36m<cell line: 1>\u001b[1;34m()\u001b[0m\n\u001b[1;32m----> 1\u001b[0m pd\u001b[38;5;241m.\u001b[39mcrosstab(\u001b[43mdata\u001b[49m\u001b[38;5;241m.\u001b[39mProduct,data\u001b[38;5;241m.\u001b[39mIncome)\u001b[38;5;241m.\u001b[39mplot\u001b[38;5;241m.\u001b[39mbar()\n\u001b[0;32m      2\u001b[0m plt\u001b[38;5;241m.\u001b[39mtitle(\u001b[38;5;124m'\u001b[39m\u001b[38;5;124mINCOME V/s PRODUCT\u001b[39m\u001b[38;5;124m'\u001b[39m)\n\u001b[0;32m      3\u001b[0m plt\u001b[38;5;241m.\u001b[39mplot()\n",
      "\u001b[1;31mNameError\u001b[0m: name 'data' is not defined"
     ]
    }
   ],
   "source": [
    "pd.crosstab(data.Product,data.Income).plot.bar()\n",
    "plt.title('INCOME V/s PRODUCT')\n",
    "plt.plot()"
   ]
  },
  {
   "cell_type": "markdown",
   "id": "8750ff39",
   "metadata": {},
   "source": [
    "* The product KP281 mostly purchased by people who have income in range  of 50k and 60 k ,count above 25\n",
    "* And also people have income b/w 40-50k also purchased the same product,count around 25 \n",
    "\n",
    "* Product KP481 also mostly purchased by people who have income in range  50-60k and 40-50k \n",
    "    * count of 50-60k in between 20 and 25\n",
    "    * count of 40-50k above 20\n",
    "* Product KP781 mostly purchased by people salary with 90k-100k,count around 10\n"
   ]
  },
  {
   "cell_type": "markdown",
   "id": "811a5ead",
   "metadata": {},
   "source": [
    "# EDUCATION v/s PRODUCT"
   ]
  },
  {
   "cell_type": "code",
   "execution_count": null,
   "id": "4707f536",
   "metadata": {},
   "outputs": [],
   "source": []
  },
  {
   "cell_type": "code",
   "execution_count": null,
   "id": "26e50718",
   "metadata": {},
   "outputs": [],
   "source": [
    "plt.figure(figsize=(10,10))\n",
    "sns.barplot(x=df.Education,y=df.Fitness,hue='Product',data=df)\n",
    "plt.plot()"
   ]
  },
  {
   "cell_type": "markdown",
   "id": "b309bebc",
   "metadata": {},
   "source": [
    "* Majority of fitnesse peoples are highly educated and they are using product KP781\n",
    "* Highly fitnesse peoples are always choosing product KP781 "
   ]
  },
  {
   "cell_type": "markdown",
   "id": "34284ee2",
   "metadata": {},
   "source": [
    "# Relationship b/w Miles,Fitness,Product "
   ]
  },
  {
   "cell_type": "code",
   "execution_count": null,
   "id": "294856d1",
   "metadata": {},
   "outputs": [],
   "source": [
    "plt.figure(figsize=(20,12))\n",
    "sns.barplot(x='Miles',y='Fitness',hue='Product',data=df)\n",
    "plt.plot()"
   ]
  },
  {
   "cell_type": "markdown",
   "id": "b1e49b78",
   "metadata": {},
   "source": [
    "* Person who walk more miles or walk >240 miles have fitness 5 \n",
    "* person using KP781  are capable of walking >250 to upto 360 miles and they got fitness 5\n",
    "* person using KP481 are walking upto 212 miles they gain filtness are limited to 3,4\n",
    "* person using KP281 are walking upto 188 miles they gain fitness 5"
   ]
  },
  {
   "cell_type": "markdown",
   "id": "2b6b4878",
   "metadata": {},
   "source": [
    "# RECOMMENDATION"
   ]
  },
  {
   "cell_type": "markdown",
   "id": "fdea0879",
   "metadata": {},
   "source": [
    "* From this data we can say that almost 59% of people purchasing treadmills is partnered. It implies partnered people also\n",
    "  give more attention to their fitness \n",
    "* As we compair the count of people have fitness 5 in singles and partnered ,count more in partnered rather than single.But if \n",
    "  we take the count of total fitnessed people singles are fitnesse more than partnered.\n",
    "* By analysing through each product we can say that majority of people purchasing treadmill KP281 compaired to other product \n",
    "  but people who walk>200 miles they use KP781 and they have fitness 5.If want to gain high fitness we can choose KP781 \n",
    "* Concerning category of all age we can say that all age peoples are mostly purchasing KP281 \n",
    "* Product KP281 have cheapest price compaired to other product may be that the reason of wild use of this product \n",
    "* That means product KP281 afforadble for all people who have lowest salary package .\n",
    "* KP481 was the median in between KP281 and KP781,who have lowest and highest price. It also affordable for middile class \n",
    "  persons .\n",
    "* we can gain more profit by selling KP281 AND KP481\n",
    "* Percentage of female customers in KP781 is very least and female have lesser fitness than males .if females buy KP781 \n",
    "  treadmills they can improve their fitness\n",
    "* The highly educated people having more fitness and they give more preference for KP781 treadmills.\n",
    "* people who are intrested to walk more miles they can choose KP781\n",
    "* People who can only affordable lowest price thay can choose KP281\n",
    "\n",
    "\n",
    " "
   ]
  },
  {
   "cell_type": "code",
   "execution_count": null,
   "id": "21e37d1c",
   "metadata": {},
   "outputs": [],
   "source": []
  }
 ],
 "metadata": {
  "kernelspec": {
   "display_name": "Python 3 (ipykernel)",
   "language": "python",
   "name": "python3"
  },
  "language_info": {
   "codemirror_mode": {
    "name": "ipython",
    "version": 3
   },
   "file_extension": ".py",
   "mimetype": "text/x-python",
   "name": "python",
   "nbconvert_exporter": "python",
   "pygments_lexer": "ipython3",
   "version": "3.10.9"
  }
 },
 "nbformat": 4,
 "nbformat_minor": 5
}
